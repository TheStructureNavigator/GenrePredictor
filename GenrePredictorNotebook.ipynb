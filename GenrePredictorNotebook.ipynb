{
 "cells": [
  {
   "cell_type": "markdown",
   "id": "8bf072a3-6a35-4b83-a782-3d43d37f3882",
   "metadata": {
    "tags": []
   },
   "source": [
    "# Neural Network Models For Genre Prediction"
   ]
  },
  {
   "cell_type": "markdown",
   "id": "e47192d2-b610-4080-be56-d61cfeae8383",
   "metadata": {
    "jp-MarkdownHeadingCollapsed": true,
    "tags": []
   },
   "source": [
    "# Dependencies\n",
    "### Libraries and settings"
   ]
  },
  {
   "cell_type": "code",
   "execution_count": null,
   "id": "a8e9ff13-f9d0-4d78-ba73-3d32d3470f9a",
   "metadata": {},
   "outputs": [],
   "source": [
    "#Dependencies\n",
    "import pandas as pd\n",
    "import matplotlib.pyplot as plt\n",
    "import numpy as np\n",
    "from sklearn.preprocessing import MinMaxScaler, LabelEncoder\n",
    "import random as rnd\n",
    "import seaborn as sns\n",
    "from scipy.stats.mstats import winsorize\n",
    "\n",
    "from sklearn.model_selection import train_test_split\n",
    "import tensorflow as tf \n",
    "from tensorflow import keras\n",
    "from tensorflow.keras import layers\n",
    "import keras_tuner as kt\n",
    "from sklearn.metrics import confusion_matrix\n",
    "\n",
    "pd.set_option('display.max_rows', None)\n",
    "pd.options.display.float_format = '{:.6f}'.format\n",
    "plt.style.use('seaborn-v0_8')"
   ]
  },
  {
   "cell_type": "code",
   "execution_count": null,
   "id": "3f44be08-5187-4230-80fb-92a8a369c0b3",
   "metadata": {},
   "outputs": [],
   "source": [
    "plt.style.available"
   ]
  },
  {
   "cell_type": "markdown",
   "id": "0ee26414-2f83-47bc-8895-fe47265903e5",
   "metadata": {
    "jp-MarkdownHeadingCollapsed": true,
    "tags": []
   },
   "source": [
    "# Data Preparation\n",
    "\n",
    "### Prepare a data and preprocess to an neural network input"
   ]
  },
  {
   "cell_type": "markdown",
   "id": "a16010cb-5e2b-4abd-8b40-d43fd39c1e98",
   "metadata": {
    "jp-MarkdownHeadingCollapsed": true,
    "tags": []
   },
   "source": [
    "### Types of normalization:\n",
    "- All features columns normalized\n",
    "- Not all features columns normalized"
   ]
  },
  {
   "cell_type": "markdown",
   "id": "1e9545bb-8bbb-4b70-a1d6-6970071e082c",
   "metadata": {
    "jp-MarkdownHeadingCollapsed": true,
    "tags": []
   },
   "source": [
    "### All features columns normalized"
   ]
  },
  {
   "cell_type": "code",
   "execution_count": null,
   "id": "d01bc7f9-1bf3-4ab5-a7d5-a4233be969ff",
   "metadata": {},
   "outputs": [],
   "source": [
    "#Genres Dataframes\n",
    "hiphop = pd.read_csv('GenresDatasetGenerator/Genres/HipHopGenre.csv')\n",
    "rock = pd.read_csv('GenresDatasetGenerator/Genres/RockGenre.csv')\n",
    "classical = pd.read_csv('GenresDatasetGenerator/Genres/ClassicalGenre.csv')\n",
    "electronic = pd.read_csv('GenresDatasetGenerator/Genres/ElectronicGenre.csv')\n",
    "\n",
    "genres = [hiphop, rock, classical, electronic]\n",
    "\n",
    "def prepare_data(genres):\n",
    "#----------------------------------------------------------------------------\n",
    "#---prepare_data() allows to generate neccesary data as an input to a model:\n",
    "#------input: genres - a list of dataframes with features for every genre\n",
    "#------output: samples - an array with input samples to a model\n",
    "#------------- target - an array with output target to a model\n",
    "#------------- nn_dataframe - input/output dataframe\n",
    "#------------- target_dict - Encoded/Decoded target dictionary\n",
    "#----------------------------------------------------------------------------\n",
    "\n",
    "    #---Feature columns used as an input to a model\n",
    "    columns = ['danceability', 'energy', 'loudness', 'speechiness', \n",
    "               'acousticness', 'instrumentalness', 'liveness', \n",
    "               'valence', 'tempo', 'duration_ms', 'key', \n",
    "               'mode', 'time_signature']\n",
    "    \n",
    "    #---Concatenate all\n",
    "    df = pd.concat(genres, ignore_index = True).set_index('Track URI')\n",
    "\n",
    "    #---Normalization objects\n",
    "    scaler = MinMaxScaler()\n",
    "    encoder = LabelEncoder()\n",
    "\n",
    "    #---Samples\n",
    "    samples = scaler.fit_transform(df[columns].values) #input samples to an nn\n",
    "    samples_df = pd.DataFrame(samples, columns = columns) #samples dataframe\n",
    "\n",
    "    #---Target\n",
    "    target = encoder.fit_transform(df['genres'].values) #target encoding to values\n",
    "    target_df = pd.DataFrame(target, columns = ['genres']) #target dataframe\n",
    "\n",
    "    #---Target dictionary\n",
    "    encoded_target = encoder.inverse_transform(target) #target decoding to string\n",
    "    target_dict = dict(zip(encoded_target, target)) #target encoding dictionary\n",
    "\n",
    "    #---Dataframe representation\n",
    "    nn_dataframe = pd.concat([samples_df, target_df], axis = 1)\n",
    "    \n",
    "    return samples, target, nn_dataframe\n",
    "\n",
    "samples, target, nn_dataframe, target_dict = prepare_data(genres)"
   ]
  },
  {
   "cell_type": "markdown",
   "id": "a32af77a-62dc-4db7-a1c4-eba5107daf67",
   "metadata": {
    "tags": []
   },
   "source": [
    "### Not all features columns normalized"
   ]
  },
  {
   "cell_type": "code",
   "execution_count": null,
   "id": "0b98ff53-e1be-4a1e-bc7a-1c376620ec5f",
   "metadata": {},
   "outputs": [],
   "source": [
    "# Genres Dataframes\n",
    "hiphop = pd.read_csv('GenresDatasetGenerator/Genres/HipHopGenre_CF.csv')\n",
    "rock = pd.read_csv('GenresDatasetGenerator/Genres/RockGenre_CF.csv')\n",
    "classical = pd.read_csv('GenresDatasetGenerator/Genres/ClassicalGenre_CF.csv')\n",
    "electronic = pd.read_csv('GenresDatasetGenerator/Genres/ElectronicGenre_CF.csv')\n",
    "alternative = pd.read_csv('GenresDatasetGenerator/Genres/AlternativeGenre_CF.csv')\n",
    "pop = pd.read_csv('GenresDatasetGenerator/Genres/PopGenre_CF.csv')\n",
    "\n",
    "# Combine genre dataframes into a list\n",
    "genres = [hiphop, rock, classical, electronic, alternative, pop]\n",
    "\n",
    "def prepare_data(genres):\n",
    "    \"\"\"\n",
    "    prepare_data() generates necessary data as an input to a model.\n",
    "    \n",
    "    Args:\n",
    "    - genres: a list of dataframes with features for every genre\n",
    "    \n",
    "    Returns:\n",
    "    - samples: an array with input samples to a model\n",
    "    - target: an array with output target to a model\n",
    "    - nn_dataframe: input/output dataframe\n",
    "    - target_dict: Encoded/Decoded target dictionary\n",
    "    \"\"\"\n",
    "    \n",
    "    # Feature columns used as input to a model\n",
    "    #ready_cols = ['danceability', 'energy', 'speechiness',\n",
    "    #              'acousticness', 'instrumentalness', 'liveness', 'valence']\n",
    "    \n",
    "    # Feature columns used as input to a model if CF\n",
    "    ready_cols = ['danceability', 'energy', 'speechiness',\n",
    "                  'acousticness', 'instrumentalness', 'liveness', \n",
    "                  'valence', 'danceability_energy_ratio', 'danceability_valence_ratio']\n",
    "    \n",
    "    nready_cols = ['loudness', 'tempo', 'duration_ms',\n",
    "                   'key', 'mode', 'time_signature']\n",
    "    \n",
    "    # Concatenate all dataframes and reset indexes\n",
    "    \n",
    "    #If Track URI in columns\n",
    "    df = pd.concat(genres, ignore_index=True).set_index('Track URI')\n",
    "    \n",
    "    #df = pd.concat(genres, ignore_index=True)\n",
    "    ready_cols_df = df[ready_cols].reset_index()\n",
    "    nready_cols_df = df[nready_cols]\n",
    "    \n",
    "    # Normalization objects\n",
    "    scaler = MinMaxScaler()\n",
    "    encoder = LabelEncoder()\n",
    "    \n",
    "    # Normalize features\n",
    "    nready_cols_scaled = scaler.fit_transform(nready_cols_df.values)\n",
    "    nready_cols_scaled_df = pd.DataFrame(nready_cols_scaled, columns=nready_cols)\n",
    "    \n",
    "     # Input to a model\n",
    "    \n",
    "    #If Track URI in columns\n",
    "    samples_df = pd.concat([ready_cols_df.drop(columns='Track URI'), nready_cols_scaled_df], axis=1)\n",
    "    \n",
    "    #samples_df = pd.concat([ready_cols_df, nready_cols_scaled_df], axis=1)\n",
    "    samples = samples_df.values\n",
    "    \n",
    "    # Target output from a model\n",
    "    target = encoder.fit_transform(df['genres'].values)\n",
    "    target_df = pd.DataFrame(target, columns=['genres'])\n",
    "    \n",
    "    # Target dictionary\n",
    "    encoded_target = encoder.inverse_transform(target)\n",
    "    target_dict = dict(zip(encoded_target, target))\n",
    "    target_dict = dict(sorted(target_dict.items()))\n",
    "    \n",
    "    # Dataframe representation\n",
    "    nn_dataframe = pd.concat([samples_df, target_df], axis=1)\n",
    "    \n",
    "    return samples, target, nn_dataframe, target_dict\n",
    "\n",
    "# Call the function and assign the returned values\n",
    "samples, target, nn_dataframe, target_dict = prepare_data(genres)"
   ]
  },
  {
   "cell_type": "code",
   "execution_count": null,
   "id": "d3fb0fc1-d4f7-4fc2-bf79-daad7db1edcd",
   "metadata": {},
   "outputs": [],
   "source": [
    "nn_dataframe"
   ]
  },
  {
   "cell_type": "code",
   "execution_count": null,
   "id": "a1b136ba-497a-45c3-b4e5-320710b85b7c",
   "metadata": {},
   "outputs": [],
   "source": [
    "# Data to filter by feature\n",
    "classical = pd.read_csv('GenresDatasetGenerator/Genres/ClassicalGenre.csv')"
   ]
  },
  {
   "cell_type": "markdown",
   "id": "eca9938d-bec2-43b8-a09e-4e2e3df47667",
   "metadata": {
    "jp-MarkdownHeadingCollapsed": true,
    "tags": []
   },
   "source": [
    "# Exploratory Data Analysis\n",
    "### In depth look into data"
   ]
  },
  {
   "cell_type": "markdown",
   "id": "39763b30-e109-401e-8890-11a08c15f2df",
   "metadata": {
    "tags": []
   },
   "source": [
    "## Look for data structure\n",
    " - KDE plots for features\n",
    " - Scatterplots"
   ]
  },
  {
   "cell_type": "code",
   "execution_count": null,
   "id": "b3327faf-1ebd-4950-bad1-0c9035ae306b",
   "metadata": {},
   "outputs": [],
   "source": [
    "#KDE Plot for features\n",
    "def plot_kde_subplots(dataframe):\n",
    "    num_cols = 3\n",
    "    num_rows = (dataframe.shape[1] - 1) // num_cols + 1\n",
    "\n",
    "    fig, axes = plt.subplots(nrows=num_rows, ncols=num_cols, figsize=(16, 16))\n",
    "    axes = axes.flatten()\n",
    "\n",
    "    for i, column in enumerate(dataframe.columns[:-1]):\n",
    "        ax = axes[i]\n",
    "        sns.kdeplot(data=dataframe, x=column, hue='genres', bw_adjust=0.5, ax=ax)\n",
    "        ax.set_title(column)\n",
    "        \n",
    "    for j in range(len(dataframe.columns[:-1]), len(axes)):\n",
    "         fig.delaxes(axes[j])\n",
    "\n",
    "    fig.tight_layout()\n",
    "    plt.show()\n",
    "\n",
    "print(pd.DataFrame(target_dict.values(), target_dict.keys(), columns = ['codes']))\n",
    "plot_kde_subplots(nn_dataframe)\n"
   ]
  },
  {
   "cell_type": "code",
   "execution_count": null,
   "id": "3a7dd410-288a-41de-9f4b-edb9a4ac205a",
   "metadata": {},
   "outputs": [],
   "source": [
    "#Scatter Plot for features\n",
    "sns.scatterplot(data = nn_dataframe, x = 'energy', y = 'danceability', hue = 'genres', )"
   ]
  },
  {
   "cell_type": "markdown",
   "id": "99d139cb-550e-41af-baad-9b8f627100a2",
   "metadata": {
    "jp-MarkdownHeadingCollapsed": true,
    "tags": []
   },
   "source": [
    "## Data filtering\n",
    " - Kernel Density Estimation Trimming\n",
    " - Populating Median Neighbourhood\n",
    " - Features Extracting"
   ]
  },
  {
   "cell_type": "markdown",
   "id": "239cf4a1-7d9c-4452-9c1a-40484694a246",
   "metadata": {
    "jp-MarkdownHeadingCollapsed": true,
    "tags": []
   },
   "source": [
    "### Kernel Density Estimation Trimming"
   ]
  },
  {
   "cell_type": "code",
   "execution_count": null,
   "id": "ac963824-f6f9-43e6-b26c-48836f33bf9b",
   "metadata": {},
   "outputs": [],
   "source": [
    "#Kernel Density Estimation Trimming\n",
    "\n",
    "#Original Genres data for reseting\n",
    "hiphop = pd.read_csv('GenresDatasetGenerator/Genres/HipHopGenre.csv')\n",
    "rock = pd.read_csv('GenresDatasetGenerator/Genres/RockGenre.csv')\n",
    "classical = pd.read_csv('GenresDatasetGenerator/Genres/ClassicalGenre.csv')\n",
    "electronic = pd.read_csv('GenresDatasetGenerator/Genres/ElectronicGenre.csv')\n",
    "alternative = pd.read_csv('GenresDatasetGenerator/Genres/AlternativeGenre.csv')\n",
    "pop = pd.read_csv('GenresDatasetGenerator/Genres/PopGenre.csv')\n",
    "\n",
    "genres = [hiphop, rock, classical, electronic, alternative, pop]\n",
    "\n",
    "samples, target, nn_dataframe, target_dict = prepare_data(genres)"
   ]
  },
  {
   "cell_type": "code",
   "execution_count": null,
   "id": "a2b71e4e-cd94-45fd-ae0c-83b5b89f0a11",
   "metadata": {},
   "outputs": [],
   "source": [
    "#Take a dataframe and trim by feature\n",
    "\n",
    "hiphop = hiphop[(hiphop['danceability'] > 0.7) & (hiphop['danceability'] < 1)]\n",
    "hiphop = hiphop[(hiphop['energy'] > 0.4) & (hiphop['energy'] < 0.8)]\n",
    "\n",
    "rock = rock[(rock['danceability'] > 0.4) & (rock['danceability'] < 0.6)]\n",
    "rock = rock[(rock['danceability'] > 0.5) & (rock['danceability'] < 1)]\n",
    "\n",
    "classical = classical[(classical['danceability'] > 0.1) & (classical['danceability'] < 0.4)]\n",
    "\n",
    "electronic = electronic[(electronic['danceability'] > 0.6) & (electronic['danceability'] < 0.75)]\n",
    "electronic = electronic[(electronic['energy'] > 0.6) & (electronic['danceability'] < 1)]\n",
    "\n",
    "alternative = alternative[(alternative['danceability'] > 0.5) & (alternative['danceability'] < 0.7)]\n",
    "\n",
    "pop = pop[(pop['danceability'] > 0.6) & (pop['danceability'] < 0.9)]\n",
    "pop = pop[(pop['energy'] > 0.4) & (pop['energy'] < 0.9)]\n",
    "\n",
    "genres = [hiphop, rock, classical, electronic, alternative, pop]\n",
    "\n",
    "#Initialize trimming\n",
    "samples, target, nn_dataframe, target_dict = prepare_data_new_features(genres)"
   ]
  },
  {
   "cell_type": "code",
   "execution_count": null,
   "id": "552b9291-8b24-4a2c-88b7-67c54753c56a",
   "metadata": {},
   "outputs": [],
   "source": [
    "#Feature KDE\n",
    "sns.kdeplot(data = nn_dataframe, x = 'danceability', hue = 'genres', bw_adjust=0.5)\n",
    "print(target_dict)\n",
    "print(nn_dataframe.columns)"
   ]
  },
  {
   "cell_type": "code",
   "execution_count": null,
   "id": "3b04f79c-140f-496e-9113-9c18c6161505",
   "metadata": {},
   "outputs": [],
   "source": [
    "#Plot for one feature\n",
    "sns.kdeplot(data = classical['tempo'], bw_adjust=0.5)"
   ]
  },
  {
   "cell_type": "markdown",
   "id": "f962128a-e50a-47f9-91cb-95ad75aaeafb",
   "metadata": {
    "jp-MarkdownHeadingCollapsed": true,
    "tags": []
   },
   "source": [
    "### Populating Median Neighbourhood"
   ]
  },
  {
   "cell_type": "code",
   "execution_count": null,
   "id": "240ace4e-a508-4443-9f6e-c7fc2647a7aa",
   "metadata": {},
   "outputs": [],
   "source": [
    "#Populating Median Neighbourhood\n",
    "\n",
    "#Original Genres data for reseting\n",
    "hiphop = pd.read_csv('GenresDatasetGenerator/Genres/HipHopGenre.csv')\n",
    "rock = pd.read_csv('GenresDatasetGenerator/Genres/RockGenre.csv')\n",
    "classical = pd.read_csv('GenresDatasetGenerator/Genres/ClassicalGenre.csv')\n",
    "electronic = pd.read_csv('GenresDatasetGenerator/Genres/ElectronicGenre.csv')\n",
    "alternative = pd.read_csv('GenresDatasetGenerator/Genres/AlternativeGenre.csv')\n",
    "pop = pd.read_csv('GenresDatasetGenerator/Genres/PopGenre.csv')\n",
    "\n",
    "genres = [hiphop, rock, classical, electronic, alternative, pop]\n",
    "\n",
    "samples, target, nn_dataframe, target_dict = prepare_data(genres)"
   ]
  },
  {
   "cell_type": "code",
   "execution_count": null,
   "id": "85131637-d88d-4a04-8229-b0eba76b2e26",
   "metadata": {},
   "outputs": [],
   "source": [
    "#Take a dataframe and populate\n",
    "\n",
    "#Choose a genre to populate\n",
    "#{'Alternative': 0, 'Classical': 1, 'Electronic': 2, 'HipHop': 3, 'Pop': 4, 'Rock': 5}\n",
    "\n",
    "def create_sample(genre):\n",
    "    \n",
    "    genre_df = genre[['danceability', 'energy', 'key', 'loudness',\n",
    "       'mode', 'speechiness', 'acousticness', 'instrumentalness', 'liveness',\n",
    "       'valence', 'tempo', 'duration_ms', 'time_signature']]\n",
    "    features = genre_df.columns\n",
    "    \n",
    "    random_features = []\n",
    "    for feature in features:\n",
    "        p25 = genre_df[feature].describe()[4]\n",
    "        p75 = genre_df[feature].describe()[6]\n",
    "        random_value = rnd.uniform(p25, p75)\n",
    "        random_features.append(random_value)\n",
    "   \n",
    "    sample = pd.DataFrame(data=[random_features], columns=features)\n",
    "    sample['genres'] = genre['genres']\n",
    "    sample[['key', 'mode', 'time_signature']] = sample[['key', 'mode', 'time_signature']].astype(int)\n",
    "    \n",
    "    return sample\n",
    "\n",
    "#create_sample(classical)"
   ]
  },
  {
   "cell_type": "code",
   "execution_count": null,
   "id": "ebdaba5d-8cfa-4157-8e4d-b4f623c8f9c9",
   "metadata": {},
   "outputs": [],
   "source": [
    "def populate(genre, r):\n",
    "    columns = ['Unnamed: 0', 'Track URI', 'danceability', 'energy', 'key', 'loudness',\n",
    "               'mode', 'speechiness', 'acousticness', 'instrumentalness', 'liveness',\n",
    "               'valence', 'tempo', 'duration_ms', 'time_signature', 'genres']\n",
    "\n",
    "    df = pd.DataFrame(columns=columns)\n",
    "\n",
    "    i = 0\n",
    "    for i in range(r):\n",
    "        sample = create_sample(genre)\n",
    "        sample['Unnamed: 0'] = 0  # Fill 'Unnamed: 0' with a placeholder value\n",
    "        sample['Track URI'] = 'placeholder'  # Fill 'Track URI' with a placeholder value\n",
    "        df = pd.concat([df, sample], ignore_index=True)\n",
    "        i = i + 1\n",
    "\n",
    "\n",
    "    populated_df = pd.concat([genre, df])\n",
    "    \n",
    "    return populated_df\n",
    "\n",
    "alternative = populate(alternative, 10)\n",
    "classical = populate(classical, 10)\n",
    "electronic = populate(electronic, 10)\n",
    "hiphop = populate(hiphop, 10)\n",
    "pop = populate(pop, 10)\n",
    "rock = populate(rock, 10)\n"
   ]
  },
  {
   "cell_type": "code",
   "execution_count": null,
   "id": "c9bd696b-c560-4596-ac1b-c36ab9d889d0",
   "metadata": {},
   "outputs": [],
   "source": [
    "genres = [hiphop, rock, classical, electronic, alternative, pop]\n",
    "samples, target, nn_dataframe, target_dict = prepare_data(genres)"
   ]
  },
  {
   "cell_type": "code",
   "execution_count": null,
   "id": "c3248e79-b9e7-4125-b3c8-67d9cc9645f2",
   "metadata": {},
   "outputs": [],
   "source": [
    "nn_dataframe"
   ]
  },
  {
   "cell_type": "code",
   "execution_count": null,
   "id": "76834477-2cd6-42e1-8f7c-d5000c67c617",
   "metadata": {},
   "outputs": [],
   "source": [
    "#Feature KDE\n",
    "sns.kdeplot(data = nn_dataframe, x = 'danceability', hue = 'genres', bw_adjust=0.5)\n",
    "print(target_dict)\n",
    "print(nn_dataframe.columns)"
   ]
  },
  {
   "cell_type": "code",
   "execution_count": null,
   "id": "e7789cc7-2d0d-45c3-8874-da0acb93a4d1",
   "metadata": {},
   "outputs": [],
   "source": [
    "#Plot for one feature\n",
    "sns.kdeplot(data = classical['danceability'], bw_adjust=0.5)"
   ]
  },
  {
   "cell_type": "markdown",
   "id": "ac52e06d-1d02-4646-8fb0-7f6b58bc673a",
   "metadata": {
    "jp-MarkdownHeadingCollapsed": true,
    "tags": []
   },
   "source": [
    "### Features Extracting"
   ]
  },
  {
   "cell_type": "code",
   "execution_count": null,
   "id": "5d341b40-cb4a-43fa-8e3d-aa4e05f75c5f",
   "metadata": {},
   "outputs": [],
   "source": [
    "#Additional features extracting\n",
    "\n",
    "#Original Genres data for reseting\n",
    "hiphop = pd.read_csv('GenresDatasetGenerator/Genres/HipHopGenre.csv')\n",
    "rock = pd.read_csv('GenresDatasetGenerator/Genres/RockGenre.csv')\n",
    "classical = pd.read_csv('GenresDatasetGenerator/Genres/ClassicalGenre.csv')\n",
    "electronic = pd.read_csv('GenresDatasetGenerator/Genres/ElectronicGenre.csv')\n",
    "alternative = pd.read_csv('GenresDatasetGenerator/Genres/AlternativeGenre.csv')\n",
    "pop = pd.read_csv('GenresDatasetGenerator/Genres/PopGenre.csv')\n",
    "\n",
    "genres = [hiphop, rock, classical, electronic, alternative, pop]\n",
    "\n",
    "samples, target, nn_dataframe, target_dict = prepare_data(genres)"
   ]
  },
  {
   "cell_type": "code",
   "execution_count": null,
   "id": "47451e37-2498-414f-840f-7325d0f0db51",
   "metadata": {},
   "outputs": [],
   "source": [
    "def prepare_data_new_features(genres):\n",
    "    \"\"\"\n",
    "    prepare_data() generates necessary data as an input to a model.\n",
    "    \n",
    "    Args:\n",
    "    - genres: a list of dataframes with features for every genre\n",
    "    \n",
    "    Returns:\n",
    "    - samples: an array with input samples to a model\n",
    "    - target: an array with output target to a model\n",
    "    - nn_dataframe: input/output dataframe\n",
    "    - target_dict: Encoded/Decoded target dictionary\n",
    "    \"\"\"\n",
    "    \n",
    "    # Feature columns used as input to a model\n",
    "    ready_cols = ['danceability', 'energy', 'speechiness',\n",
    "                  'acousticness', 'instrumentalness', 'liveness', \n",
    "                  'valence', 'danceability_energy_ratio', 'danceability_loudness_ratio']\n",
    "    nready_cols = ['loudness', 'tempo', 'duration_ms',\n",
    "                   'key', 'mode', 'time_signature']\n",
    "    \n",
    "    # Concatenate all dataframes and reset indexes\n",
    "    df = pd.concat(genres, ignore_index=True).set_index('Track URI')\n",
    "    ready_cols_df = df[ready_cols].reset_index()\n",
    "    nready_cols_df = df[nready_cols]\n",
    "    \n",
    "    # Normalization objects\n",
    "    scaler = MinMaxScaler()\n",
    "    encoder = LabelEncoder()\n",
    "    \n",
    "    # Normalize features\n",
    "    nready_cols_scaled = scaler.fit_transform(nready_cols_df.values)\n",
    "    nready_cols_scaled_df = pd.DataFrame(nready_cols_scaled, columns=nready_cols)\n",
    "    \n",
    "    # Input to a model\n",
    "    samples_df = pd.concat([ready_cols_df.drop(columns='Track URI'), nready_cols_scaled_df], axis=1)\n",
    "    samples = samples_df.values\n",
    "    \n",
    "    # Target output from a model\n",
    "    target = encoder.fit_transform(df['genres'].values)\n",
    "    target_df = pd.DataFrame(target, columns=['genres'])\n",
    "    \n",
    "    # Target dictionary\n",
    "    encoded_target = encoder.inverse_transform(target)\n",
    "    target_dict = dict(zip(encoded_target, target))\n",
    "    target_dict = dict(sorted(target_dict.items()))\n",
    "    \n",
    "    # Dataframe representation\n",
    "    nn_dataframe = pd.concat([samples_df, target_df], axis=1)\n",
    "    \n",
    "    return samples, target, nn_dataframe, target_dict"
   ]
  },
  {
   "cell_type": "code",
   "execution_count": null,
   "id": "1c779862-2018-49a2-90c8-2a1a5201bdc6",
   "metadata": {},
   "outputs": [],
   "source": [
    "for genre in genres:\n",
    "    genre['danceability_energy_ratio'] = genre['danceability'] * genre['energy']\n",
    "    genre['danceability_loudness_ratio'] = genre['danceability'] * genre['valence']\n",
    "\n",
    "genres = [hiphop, rock, classical, electronic, alternative, pop]\n",
    "\n",
    "samples, target, nn_dataframe, target_dict = prepare_data_new_features(genres)"
   ]
  },
  {
   "cell_type": "code",
   "execution_count": null,
   "id": "ab3bd5ee-5d69-4ff9-bca3-e07fff220ace",
   "metadata": {},
   "outputs": [],
   "source": [
    "#Feature KDE\n",
    "sns.kdeplot(data = nn_dataframe, x = 'danceability_loudness_ratio', hue = 'genres', bw_adjust=0.5)\n",
    "print(target_dict)\n",
    "print(nn_dataframe.columns)"
   ]
  },
  {
   "cell_type": "code",
   "execution_count": null,
   "id": "139f6912-03c9-4a39-a3f1-943a0bf2a413",
   "metadata": {},
   "outputs": [],
   "source": [
    "nn_dataframe"
   ]
  },
  {
   "cell_type": "markdown",
   "id": "75d40f67-aa1b-4247-ae35-015a0a276535",
   "metadata": {
    "jp-MarkdownHeadingCollapsed": true,
    "tags": []
   },
   "source": [
    "# Model\n",
    "### Create an neural network and hyperparameter tuning\n",
    "- Model architecture optimization - create a neural network model object and use a tuner to optimize in terms of architecture\n",
    "- Main model - Create own neural network model"
   ]
  },
  {
   "cell_type": "code",
   "execution_count": null,
   "id": "a8ff56fe-9fcd-4ad0-9c05-9cdf63d850c8",
   "metadata": {},
   "outputs": [],
   "source": [
    "#---Data split\n",
    "X_train, X_test, y_train, y_test = train_test_split(samples, target)"
   ]
  },
  {
   "cell_type": "code",
   "execution_count": null,
   "id": "03caf93a-2f59-44b7-b394-38f8929e69a1",
   "metadata": {},
   "outputs": [],
   "source": [
    "X_train.shape"
   ]
  },
  {
   "cell_type": "markdown",
   "id": "f09d010d-b692-4c97-aadd-6a14c7a4b73b",
   "metadata": {
    "jp-MarkdownHeadingCollapsed": true,
    "tags": []
   },
   "source": [
    "### Model architecture optimization"
   ]
  },
  {
   "cell_type": "code",
   "execution_count": null,
   "id": "e5143faa-f37d-4c1c-9f00-fad49601751c",
   "metadata": {},
   "outputs": [],
   "source": [
    "def model_builder(hp):\n",
    "#--------------------------------------------------------------------------------\n",
    "#---model_builder() allows to build model architecture for hyperparameter tuning\n",
    "#--------------------------------------------------------------------------------\n",
    "\n",
    "    model = tf.keras.Sequential()\n",
    "    model.add(tf.keras.layers.Flatten(input_shape = (13, 1)))\n",
    "    \n",
    "    hp_activation = hp.Choice('activation', values = ['relu', 'tanh'])\n",
    "    hp_layer_1 = hp.Int('layer_1', min_value = 16, max_value = 128, step = 16)\n",
    "    hp_layer_2 = hp.Int('layer_2', min_value = 0, max_value = 128, step = 16)\n",
    "              \n",
    "    model.add(tf.keras.layers.Dense(units = hp_layer_1, activation = hp_activation))\n",
    "    model.add(tf.keras.layers.Dense(units = hp_layer_2, activation = hp_activation))\n",
    "    model.add(tf.keras.layers.Dropout(0.3))\n",
    "    model.add(tf.keras.layers.Dense(6, activation = 'softmax'))\n",
    "              \n",
    "    model.compile(optimizer = tf.keras.optimizers.Adam(),\n",
    "                  loss = tf.keras.losses.SparseCategoricalCrossentropy(),\n",
    "                  metrics = ['accuracy'])\n",
    "              \n",
    "    return model"
   ]
  },
  {
   "cell_type": "code",
   "execution_count": null,
   "id": "e7aa7d6d-e2a3-48cb-a41c-4deeb7fe160d",
   "metadata": {},
   "outputs": [],
   "source": [
    "#---Available tuners\n",
    "hb_tuner = kt.Hyperband(model_builder,\n",
    "                     objective = 'val_accuracy',\n",
    "                     max_epochs = 100,\n",
    "                     factor = 3,\n",
    "                     directory = 'keras-tuner',\n",
    "                     overwrite = True,\n",
    "                     project_name = 'test')\n",
    "\n",
    "rs_tuner = kt.RandomSearch(model_builder,\n",
    "                         objective=\"val_accuracy\",\n",
    "                         max_trials=10,\n",
    "                         executions_per_trial=2,\n",
    "                         overwrite=True,\n",
    "                         directory=\"keras-tuner\",\n",
    "                         project_name=\"testt\")\n",
    "\n",
    "gs_tuner = kt.GridSearch(model_builder,\n",
    "                         objective = 'val_accuracy',\n",
    "                         max_trials = 20,\n",
    "                         directory = 'keras-tuner',\n",
    "                         overwrite = True,\n",
    "                         project_name = 'best_model_gstuner')"
   ]
  },
  {
   "cell_type": "code",
   "execution_count": null,
   "id": "ed448033-2061-4fb3-8e75-9db91af70428",
   "metadata": {},
   "outputs": [],
   "source": [
    "#---Optimizator definition\n",
    "def tuner(tuner):\n",
    "    stop_early = tf.keras.callbacks.EarlyStopping(monitor = 'val_loss', patience = 10)\n",
    "    tuner.search(X_train, y_train, epochs = 100, validation_split = 0.2, callbacks = [stop_early])\n",
    "    #tuner.results_summary()\n",
    "    best_hps = tuner.get_best_hyperparameters(num_trials = 1)[0]\n",
    "    model = tuner.hypermodel.build(best_hps)\n",
    "    model.summary()\n",
    "    \n",
    "    return model\n",
    "\n",
    "model = tuner(gs_tuner) #build a tuner "
   ]
  },
  {
   "cell_type": "code",
   "execution_count": null,
   "id": "acf2eb57-5400-4885-a530-07fedf881ceb",
   "metadata": {},
   "outputs": [],
   "source": [
    "#---Training characteristics\n",
    "history = model.fit(X_train, y_train, batch_size = 32, epochs = 80, verbose = 0, validation_split = 0.2)\n",
    "\n",
    "#Plot training and validation loss\n",
    "fig, axes = plt.subplots(nrows=1, ncols=2, figsize=(13, 4))\n",
    "\n",
    "axes[0].plot(history.history['loss'], label='Training Loss')\n",
    "axes[0].plot(history.history['val_loss'], label='Validation Loss')\n",
    "axes[0].set_xlabel('Epoch')\n",
    "axes[0].set_ylabel('Loss')\n",
    "axes[0].legend()\n",
    "\n",
    "#Plot training and validation accuracy\n",
    "axes[1].plot(history.history['accuracy'], label='Training Accuracy')\n",
    "axes[1].plot(history.history['val_accuracy'], label='Validation Accuracy')\n",
    "axes[1].set_xlabel('Epoch')\n",
    "axes[1].set_ylabel('Accuracy')\n",
    "axes[1].legend()\n",
    "\n",
    "plt.tight_layout()\n",
    "plt.show()"
   ]
  },
  {
   "cell_type": "markdown",
   "id": "7f5a82a9-beee-4266-b7f4-cc35a7f893c0",
   "metadata": {
    "tags": []
   },
   "source": [
    "### Main model"
   ]
  },
  {
   "cell_type": "code",
   "execution_count": null,
   "id": "4f9e812f-624a-42c0-bc73-99e287a308b9",
   "metadata": {},
   "outputs": [],
   "source": [
    "def create_model(input_shape):\n",
    "    \"\"\"\n",
    "    create_model() allows customizing and building a model.\n",
    "    \n",
    "    Args:\n",
    "    - input_shape: shape of the input\n",
    "    \n",
    "    Returns:\n",
    "    - model: neural network model\n",
    "    \"\"\"\n",
    "    \n",
    "    model = tf.keras.models.Sequential([\n",
    "        tf.keras.layers.Flatten(input_shape=input_shape),\n",
    "        tf.keras.layers.Dense(64, activation='relu'),\n",
    "        tf.keras.layers.Dense(32, activation='relu'),\n",
    "        tf.keras.layers.Dropout(0.3),\n",
    "        tf.keras.layers.Dense(6, activation='softmax')\n",
    "    ])\n",
    "    \n",
    "    # Compiler\n",
    "    loss_func = tf.keras.losses.SparseCategoricalCrossentropy(from_logits=False)\n",
    "    model.compile(optimizer='adam',\n",
    "                  loss=loss_func,\n",
    "                  metrics=['accuracy'])\n",
    "    \n",
    "    return model\n",
    "\n",
    "# Call the function and assign the returned model\n",
    "model = create_model(input_shape=(15, 1))"
   ]
  },
  {
   "cell_type": "code",
   "execution_count": null,
   "id": "80fe0008-e0eb-41e1-9124-c7137ce61ffa",
   "metadata": {},
   "outputs": [],
   "source": [
    "def train_model(model, X_train, y_train):\n",
    "    \"\"\"\n",
    "    train_model() trains a model and plots training characteristics.\n",
    "    \n",
    "    Args:\n",
    "    - model: neural network architecture\n",
    "    - X_train, y_train: input and target output\n",
    "    \n",
    "    Returns:\n",
    "    - trained_model: trained neural network\n",
    "    \"\"\"\n",
    "    \n",
    "    # Train the model\n",
    "    trained_model = model.fit(X_train, y_train, batch_size=32, epochs=100, verbose=0, validation_split=0.2)\n",
    "    \n",
    "    # Plot training and validation loss\n",
    "    fig, axes = plt.subplots(nrows=1, ncols=2, figsize=(13, 4))\n",
    "    axes[0].plot(trained_model.history['loss'], label='Training Loss')\n",
    "    axes[0].plot(trained_model.history['val_loss'], label='Validation Loss')\n",
    "    axes[0].set_xlabel('Epoch')\n",
    "    axes[0].set_ylabel('Loss')\n",
    "    axes[0].legend()\n",
    "    \n",
    "    # Plot training and validation accuracy\n",
    "    axes[1].plot(trained_model.history['accuracy'], label='Training Accuracy')\n",
    "    axes[1].plot(trained_model.history['val_accuracy'], label='Validation Accuracy')\n",
    "    axes[1].set_xlabel('Epoch')\n",
    "    axes[1].set_ylabel('Accuracy')\n",
    "    axes[1].legend()\n",
    "    \n",
    "    plt.tight_layout()\n",
    "    plt.show()\n",
    "    \n",
    "    return trained_model\n",
    "\n",
    "# Call the function and assign the returned trained model\n",
    "trained_model = train_model(model, X_train, y_train)"
   ]
  },
  {
   "cell_type": "code",
   "execution_count": null,
   "id": "ba7ce455-6e5a-456c-9674-8d504d47d8c2",
   "metadata": {},
   "outputs": [],
   "source": [
    "def evaluate_model(model, X_test, y_test):\n",
    "    \"\"\"\n",
    "    evaluate_model() evaluates a model on test data.\n",
    "    \n",
    "    Args:\n",
    "    - model: neural network architecture\n",
    "    - X_test, y_test: input and target output\n",
    "    \n",
    "    Returns:\n",
    "    - None\n",
    "    \"\"\"\n",
    "    \n",
    "    # Evaluating to check performance\n",
    "    model.evaluate(X_test, y_test, verbose=2)\n",
    "    \n",
    "    return\n",
    "\n",
    "# Call the function\n",
    "evaluate_model(model, X_test, y_test)"
   ]
  },
  {
   "cell_type": "markdown",
   "id": "c8f4c8f7-175a-43dd-8ecc-aba8d5514be4",
   "metadata": {
    "tags": []
   },
   "source": [
    "### Confusion matrix for test data"
   ]
  },
  {
   "cell_type": "code",
   "execution_count": null,
   "id": "c5bfc609-db2b-4c92-874b-283057d268d3",
   "metadata": {},
   "outputs": [],
   "source": [
    "#Prediction accuracy using predict method\n",
    "predictions = model.predict(X_test)\n",
    "predicted_labels = np.argmax(predictions, axis=1)\n",
    "accuracy = np.mean(predicted_labels == y_test)\n",
    "print('Accuracy:', accuracy)\n",
    "\n",
    "#---Confusion matrix\n",
    "cm = confusion_matrix(y_test, predicted_labels)\n",
    "\n",
    "#---Create heatmap\n",
    "sns.heatmap(cm, annot=True, fmt='d', cmap='Blues', xticklabels=target_dict.keys(), yticklabels=target_dict.keys())\n",
    "\n",
    "#---Set axis labels and title\n",
    "plt.xlabel('Predicted')\n",
    "plt.ylabel('True')\n",
    "plt.title('Confusion Matrix')\n",
    "\n",
    "#---Show the plot\n",
    "plt.show()"
   ]
  },
  {
   "cell_type": "markdown",
   "id": "9991b681-363f-4698-a087-5ead6ff56344",
   "metadata": {
    "jp-MarkdownHeadingCollapsed": true,
    "tags": []
   },
   "source": [
    "### Save/Load model"
   ]
  },
  {
   "cell_type": "code",
   "execution_count": null,
   "id": "56bc6695-5d4f-471b-bb59-37f550f1b1cc",
   "metadata": {},
   "outputs": [],
   "source": [
    "#Save model\n",
    "# Save the weights\n",
    "model.save_weights('models/models1')"
   ]
  },
  {
   "cell_type": "code",
   "execution_count": null,
   "id": "c336f3ac-a46b-4eee-9c8e-537b13b9cc7f",
   "metadata": {},
   "outputs": [],
   "source": [
    "#Load model\n",
    "# Restore the weights\n",
    "model.load_weights('models/models1')"
   ]
  },
  {
   "cell_type": "markdown",
   "id": "49ece74f-fabd-425f-99d3-bb943c174a76",
   "metadata": {
    "jp-MarkdownHeadingCollapsed": true,
    "tags": []
   },
   "source": [
    "# Predictions\n",
    "### Predict and visualize"
   ]
  },
  {
   "cell_type": "markdown",
   "id": "5b977831-d29b-4810-91c9-e2098591b61f",
   "metadata": {
    "jp-MarkdownHeadingCollapsed": true,
    "tags": []
   },
   "source": [
    "### Main model predictions on a test data in barplot style"
   ]
  },
  {
   "cell_type": "code",
   "execution_count": null,
   "id": "70ad071e-c6a9-46c8-af5f-e2e407da002c",
   "metadata": {},
   "outputs": [],
   "source": [
    "#Predictions probabilities in barplot style\n",
    "def plot_predictions(predictions):\n",
    "\n",
    "    num_predictions = len(predictions)\n",
    "    num_subplots = 4  # Assuming 2 subplots per row, you can adjust as needed\n",
    "    num_rows = (num_predictions + num_subplots - 1) // num_subplots\n",
    "\n",
    "    fig, axs = plt.subplots(num_rows, num_subplots, figsize=(14, 2 * num_rows))\n",
    "\n",
    "    for i, prediction in enumerate(predictions):\n",
    "        row = i // num_subplots\n",
    "        col = i % num_subplots\n",
    "\n",
    "        ax = axs[row, col]\n",
    "        ax.bar(range(len(prediction)), prediction)\n",
    "        ax.set_xlabel('Categories')\n",
    "        ax.set_ylabel('Probability')\n",
    "        ax.set_title(f'Prediction {i+1}')\n",
    "\n",
    "    # Adjust the spacing between subplots\n",
    "    fig.tight_layout()\n",
    "\n",
    "    # Display the plot\n",
    "    plt.show()\n",
    "    \n",
    "plot_predictions(predictions.tolist()[:12])"
   ]
  },
  {
   "cell_type": "code",
   "execution_count": null,
   "id": "efe9ea6f-5364-44a6-83b9-240402a09c49",
   "metadata": {},
   "outputs": [],
   "source": [
    "#Predictions probabilities dataframe\n",
    "prediction_df = pd.DataFrame(data = predictions, columns = target_dict.keys())\n",
    "prediction_df"
   ]
  },
  {
   "cell_type": "markdown",
   "id": "671be810-2008-43d5-8f75-95c4deb2bb92",
   "metadata": {
    "jp-MarkdownHeadingCollapsed": true,
    "tags": []
   },
   "source": [
    "### Main model predictions for unknown data\n",
    "- Prepare a new data and preprocess as an neural network input"
   ]
  },
  {
   "cell_type": "code",
   "execution_count": null,
   "id": "68c74351-a970-483a-9c78-68727e746f8f",
   "metadata": {},
   "outputs": [],
   "source": [
    "#Predictions for unknown data\n",
    "def data_prep(df):\n",
    "    \n",
    "    ready_cols = ['danceability', 'energy', 'speechiness', \n",
    "                  'acousticness', 'instrumentalness', 'liveness', 'valence']\n",
    "    nready_cols = ['loudness', 'tempo', 'duration_ms', \n",
    "                   'key', 'mode', 'time_signature']\n",
    "\n",
    "    #---Concatenate all and reset indexes\n",
    "    df = df.set_index('Track URI')\n",
    "    ready_cols_df = df[ready_cols].reset_index()\n",
    "    nready_cols_df = df[nready_cols]\n",
    "\n",
    "    #---Normalization objects\n",
    "    scaler = MinMaxScaler()\n",
    "    encoder = LabelEncoder()\n",
    "\n",
    "    #---Normalize features\n",
    "    #------nready_cols_scaled - transformed data\n",
    "    #------nready_cols_scaled_df - dataframe\n",
    "    nready_cols_scaled = scaler.fit_transform(nready_cols_df.values) \n",
    "    nready_cols_scaled_df = pd.DataFrame(nready_cols_scaled, columns = nready_cols)\n",
    "    \n",
    "    #---Input to a model\n",
    "    samples_df = pd.concat([ready_cols_df.drop(columns = 'Track URI'), nready_cols_scaled_df], axis = 1)\n",
    "    samples = samples_df.values\n",
    "    \n",
    "    return samples, samples_df\n",
    "\n",
    "data = pd.read_csv('GenresDatasetGenerator/Albums/JACKBOYS.csv')\n",
    "test_samples, test_samples_df = data_prep(data)"
   ]
  },
  {
   "cell_type": "markdown",
   "id": "5a122e8a-7e6a-4931-b00d-6863a7966bb8",
   "metadata": {
    "jp-MarkdownHeadingCollapsed": true,
    "tags": []
   },
   "source": [
    "### Prediction barplot for song"
   ]
  },
  {
   "cell_type": "code",
   "execution_count": null,
   "id": "733b5b65-5f69-4d82-bdd7-edd82e05796e",
   "metadata": {},
   "outputs": [],
   "source": [
    "predictions_unkn = model.predict(test_samples)\n",
    "\n",
    "labels = list(target_dict.keys())\n",
    "indices = list(target_dict.values())\n",
    "\n",
    "# Create a bar plot\n",
    "plt.bar(indices, predictions_unkn.flatten())\n",
    "\n",
    "# Set the tick labels and title\n",
    "plt.xticks(indices, labels)\n",
    "plt.xlabel('Genres')\n",
    "plt.ylabel('Prediction Probability')\n",
    "plt.title('Predicted Probabilities for Genres')\n",
    "\n",
    "# Display the plot\n",
    "plt.show()"
   ]
  },
  {
   "cell_type": "markdown",
   "id": "0f5d82c9-6397-4b4e-ba1a-8433851d4b42",
   "metadata": {
    "jp-MarkdownHeadingCollapsed": true,
    "tags": []
   },
   "source": [
    "### Prediction barplot for playlist"
   ]
  },
  {
   "cell_type": "code",
   "execution_count": null,
   "id": "4fb9e366-60e7-4405-83e8-3d373b345ddd",
   "metadata": {},
   "outputs": [],
   "source": [
    "predictions = model.predict(test_samples)\n",
    "plot_predictions(predictions)"
   ]
  },
  {
   "cell_type": "markdown",
   "id": "7537302f-5f67-4bd0-b971-3a51baab219f",
   "metadata": {
    "jp-MarkdownHeadingCollapsed": true,
    "tags": []
   },
   "source": [
    "### Histogram for genres count"
   ]
  },
  {
   "cell_type": "code",
   "execution_count": null,
   "id": "fe00ea64-7b71-46b0-aff7-7a823e1d9dbf",
   "metadata": {},
   "outputs": [],
   "source": [
    "predicted_labels = np.argmax(predictions, axis=1)\n",
    "predicted_labels_keys = [key for value in predicted_labels for key, val in target_dict.items() if val == value]\n",
    "sns.histplot(data = predicted_labels_keys, discrete = True)"
   ]
  },
  {
   "cell_type": "markdown",
   "id": "30cee9e0-ab4a-4d49-a4c5-b10ef558991c",
   "metadata": {
    "jp-MarkdownHeadingCollapsed": true,
    "tags": []
   },
   "source": [
    "### Model prediction uncertainty"
   ]
  },
  {
   "cell_type": "code",
   "execution_count": null,
   "id": "0c4f6764-03d3-4de4-9361-5403591c9672",
   "metadata": {},
   "outputs": [],
   "source": [
    "#Predictions probabilities dataframe\n",
    "prediction_df = pd.DataFrame(data = predictions, columns = target_dict.keys())\n",
    "#prediction_df"
   ]
  },
  {
   "cell_type": "code",
   "execution_count": null,
   "id": "15cd3744-c9ba-4624-a166-e738fc67df93",
   "metadata": {},
   "outputs": [],
   "source": [
    "uncertainty = []\n",
    "for i in range(prediction_df.shape[0]):\n",
    "    pred_uncertainty = prediction_df.iloc[i].sort_values(ascending = False)[0] - prediction_df.iloc[i].sort_values(ascending = False)[1]\n",
    "    uncertainty.append(pred_uncertainty)\n",
    "\n",
    "uncertainty_df = pd.DataFrame(data = uncertainty, columns = ['Uncertainty Value'])\n",
    "#uncertainty_df = uncertainty_df.sort_values(by = 'Uncertainty Value', ascending = False) # No need for sorting, seaborn handle this\n",
    "#uncertainty_df"
   ]
  },
  {
   "cell_type": "code",
   "execution_count": null,
   "id": "b05dbc04-0ceb-41f9-86d6-26fdac9ce022",
   "metadata": {},
   "outputs": [],
   "source": [
    "sns.kdeplot(data = uncertainty_df, x = 'Uncertainty Value', bw_adjust=0.2)"
   ]
  },
  {
   "cell_type": "markdown",
   "id": "d00f9a74-b14f-4340-8f58-21f4578d7234",
   "metadata": {
    "tags": []
   },
   "source": [
    "# ---------------------------------------------------------------------------------------------------------------------------------\n",
    "# Working modules\n",
    "# ---------------------------------------------------------------------------------------------------------------------------------"
   ]
  },
  {
   "cell_type": "markdown",
   "id": "5cfe838f-51d2-4ce5-810b-3fa8ae6e36d9",
   "metadata": {
    "jp-MarkdownHeadingCollapsed": true,
    "tags": []
   },
   "source": [
    "## ---------------------------------------------------------------------------------------------------------------------------------\n",
    "## ------Neural network training on a raw genre datasets\n",
    "## ---------------------------------------------------------------------------------------------------------------------------------"
   ]
  },
  {
   "cell_type": "markdown",
   "id": "a32b3053-71dc-49bd-b95f-62ab5386bffe",
   "metadata": {
    "jp-MarkdownHeadingCollapsed": true,
    "tags": []
   },
   "source": [
    "### Functions:"
   ]
  },
  {
   "cell_type": "code",
   "execution_count": null,
   "id": "ef132bf6-4d86-42ab-bc8b-a56488779ab5",
   "metadata": {},
   "outputs": [],
   "source": [
    "def prepare_data(genres):\n",
    "    \"\"\"\n",
    "    prepare_data() generates necessary data as an input to a model.\n",
    "    \n",
    "    Args:\n",
    "    - genres: a list of dataframes with features for every genre\n",
    "    \n",
    "    Returns:\n",
    "    - samples: an array with input samples to a model\n",
    "    - target: an array with output target to a model\n",
    "    - nn_dataframe: input/output dataframe\n",
    "    - target_dict: Encoded/Decoded target dictionary\n",
    "    \"\"\"\n",
    "    \n",
    "    # Feature columns used as input to a model\n",
    "    ready_cols = ['danceability', 'energy', 'speechiness',\n",
    "                  'acousticness', 'instrumentalness', 'liveness', 'valence']\n",
    "    nready_cols = ['loudness', 'tempo', 'duration_ms',\n",
    "                   'key', 'mode', 'time_signature']\n",
    "    \n",
    "    # Concatenate all dataframes and reset indexes\n",
    "    df = pd.concat(genres, ignore_index=True).set_index('Track URI')\n",
    "    ready_cols_df = df[ready_cols].reset_index()\n",
    "    nready_cols_df = df[nready_cols]\n",
    "    \n",
    "    # Normalization objects\n",
    "    scaler = MinMaxScaler()\n",
    "    encoder = LabelEncoder()\n",
    "    \n",
    "    # Normalize features\n",
    "    nready_cols_scaled = scaler.fit_transform(nready_cols_df.values)\n",
    "    nready_cols_scaled_df = pd.DataFrame(nready_cols_scaled, columns=nready_cols)\n",
    "    \n",
    "    # Input to a model\n",
    "    samples_df = pd.concat([ready_cols_df.drop(columns='Track URI'), nready_cols_scaled_df], axis=1)\n",
    "    samples = samples_df.values\n",
    "    \n",
    "    # Target output from a model\n",
    "    target = encoder.fit_transform(df['genres'].values)\n",
    "    target_df = pd.DataFrame(target, columns=['genres'])\n",
    "    \n",
    "    # Target dictionary\n",
    "    encoded_target = encoder.inverse_transform(target)\n",
    "    target_dict = dict(zip(encoded_target, target))\n",
    "    target_dict = dict(sorted(target_dict.items()))\n",
    "    \n",
    "    # Dataframe representation\n",
    "    nn_dataframe = pd.concat([samples_df, target_df], axis=1)\n",
    "    \n",
    "    return samples, target, nn_dataframe, target_dict\n",
    "\n",
    "def create_model(input_shape):\n",
    "    \"\"\"\n",
    "    create_model() allows customizing and building a model.\n",
    "    \n",
    "    Args:\n",
    "    - input_shape: shape of the input\n",
    "    \n",
    "    Returns:\n",
    "    - model: neural network model\n",
    "    \"\"\"\n",
    "    \n",
    "    model = tf.keras.models.Sequential([\n",
    "        tf.keras.layers.Flatten(input_shape=input_shape),\n",
    "        tf.keras.layers.Dense(64, activation='relu'),\n",
    "        #tf.keras.layers.Dense(32, activation='relu'),\n",
    "        tf.keras.layers.Dropout(0.3),\n",
    "        tf.keras.layers.Dense(6, activation='softmax')\n",
    "    ])\n",
    "    \n",
    "    # Compiler\n",
    "    loss_func = tf.keras.losses.SparseCategoricalCrossentropy(from_logits=False)\n",
    "    model.compile(optimizer='adam',\n",
    "                  loss=loss_func,\n",
    "                  metrics=['accuracy'])\n",
    "    \n",
    "    return model\n",
    "\n",
    "def train_model(model, X_train, y_train):\n",
    "    \"\"\"\n",
    "    train_model() trains a model and plots training characteristics.\n",
    "    \n",
    "    Args:\n",
    "    - model: neural network architecture\n",
    "    - X_train, y_train: input and target output\n",
    "    \n",
    "    Returns:\n",
    "    - trained_model: trained neural network\n",
    "    \"\"\"\n",
    "    \n",
    "    # Train the model\n",
    "    trained_model = model.fit(X_train, y_train, batch_size=32, epochs=100, verbose=0, validation_split=0.2)\n",
    "    \n",
    "    # Plot training and validation loss\n",
    "    fig, axes = plt.subplots(nrows=1, ncols=2, figsize=(13, 4))\n",
    "    axes[0].plot(trained_model.history['loss'], label='Training Loss')\n",
    "    axes[0].plot(trained_model.history['val_loss'], label='Validation Loss')\n",
    "    axes[0].set_xlabel('Epoch')\n",
    "    axes[0].set_ylabel('Loss')\n",
    "    axes[0].legend()\n",
    "    \n",
    "    # Plot training and validation accuracy\n",
    "    axes[1].plot(trained_model.history['accuracy'], label='Training Accuracy')\n",
    "    axes[1].plot(trained_model.history['val_accuracy'], label='Validation Accuracy')\n",
    "    axes[1].set_xlabel('Epoch')\n",
    "    axes[1].set_ylabel('Accuracy')\n",
    "    axes[1].legend()\n",
    "    \n",
    "    plt.tight_layout()\n",
    "    plt.show()\n",
    "    \n",
    "    return trained_model\n",
    "\n",
    "def evaluate_model(model, X_test, y_test):\n",
    "    \"\"\"\n",
    "    evaluate_model() evaluates a model on test data.\n",
    "    \n",
    "    Args:\n",
    "    - model: neural network architecture\n",
    "    - X_test, y_test: input and target output\n",
    "    \n",
    "    Returns:\n",
    "    - None\n",
    "    \"\"\"\n",
    "    \n",
    "    # Evaluating to check performance\n",
    "    model.evaluate(X_test, y_test, verbose=2)\n",
    "    \n",
    "    return"
   ]
  },
  {
   "cell_type": "markdown",
   "id": "ab872f87-cb01-4147-a120-9594b893681f",
   "metadata": {
    "jp-MarkdownHeadingCollapsed": true,
    "tags": []
   },
   "source": [
    "### Load raw data"
   ]
  },
  {
   "cell_type": "code",
   "execution_count": 31,
   "id": "f0bc32f1-68e9-4622-869f-8b2e22f128e8",
   "metadata": {},
   "outputs": [],
   "source": [
    "# Populated Genres Dataframes\n",
    "hiphop = pd.read_csv('GenresDatasetGenerator/Genres/HipHopGenre_pop.csv')\n",
    "rock = pd.read_csv('GenresDatasetGenerator/Genres/RockGenre_pop.csv')\n",
    "classical = pd.read_csv('GenresDatasetGenerator/Genres/ClassicalGenre_pop.csv')\n",
    "electronic = pd.read_csv('GenresDatasetGenerator/Genres/ElectronicGenre_pop.csv')\n",
    "alternative = pd.read_csv('GenresDatasetGenerator/Genres/AlternativeGenre_pop.csv')\n",
    "pop = pd.read_csv('GenresDatasetGenerator/Genres/PopGenre_pop.csv')\n",
    "\n",
    "#Combine genre dataframes into a list\n",
    "genres = [hiphop, rock, classical, electronic, alternative, pop]"
   ]
  },
  {
   "cell_type": "code",
   "execution_count": null,
   "id": "c950728c-d4fd-44f7-b858-09c970a74b7c",
   "metadata": {},
   "outputs": [],
   "source": [
    "# Raw Genres Dataframes\n",
    "hiphop = pd.read_csv('GenresDatasetGenerator/Genres/HipHopGenre.csv')\n",
    "rock = pd.read_csv('GenresDatasetGenerator/Genres/RockGenre.csv')\n",
    "classical = pd.read_csv('GenresDatasetGenerator/Genres/ClassicalGenre.csv')\n",
    "electronic = pd.read_csv('GenresDatasetGenerator/Genres/ElectronicGenre.csv')\n",
    "alternative = pd.read_csv('GenresDatasetGenerator/Genres/AlternativeGenre.csv')\n",
    "pop = pd.read_csv('GenresDatasetGenerator/Genres/PopGenre.csv')\n",
    "\n",
    "#Combine genre dataframes into a list\n",
    "genres = [hiphop, rock, classical, electronic, alternative, pop]"
   ]
  },
  {
   "cell_type": "markdown",
   "id": "69948ca6-ee56-4428-b158-3fc3753c4c89",
   "metadata": {
    "jp-MarkdownHeadingCollapsed": true,
    "tags": []
   },
   "source": [
    "### Train a model"
   ]
  },
  {
   "cell_type": "code",
   "execution_count": 32,
   "id": "c3538746-5e5b-43b1-a92b-638160c9a46a",
   "metadata": {},
   "outputs": [
    {
     "data": {
      "image/png": "[encoded data removed]",
      "text/plain": [
       "<Figure size 1300x400 with 2 Axes>"
      ]
     },
     "metadata": {},
     "output_type": "display_data"
    },
    {
     "name": "stdout",
     "output_type": "stream",
     "text": [
      "98/98 - 0s - loss: 0.5974 - accuracy: 0.7943 - 77ms/epoch - 787us/step\n"
     ]
    }
   ],
   "source": [
    "# Create and preprocess training data\n",
    "samples, target, nn_dataframe, target_dict = prepare_data(genres)\n",
    "\n",
    "# Data split\n",
    "X_train, X_test, y_train, y_test = train_test_split(samples, target)\n",
    "\n",
    "# Create a model\n",
    "model = create_model(input_shape=(13, 1))\n",
    "\n",
    "# Train a model\n",
    "trained_model = train_model(model, X_train, y_train)\n",
    "\n",
    "# Evaluate on a test set\n",
    "evaluate_model(model, X_test, y_test)"
   ]
  },
  {
   "cell_type": "markdown",
   "id": "848b7a3d-0c2a-46e6-b872-86d5dabe01e6",
   "metadata": {
    "jp-MarkdownHeadingCollapsed": true,
    "tags": []
   },
   "source": [
    "### Visualize"
   ]
  },
  {
   "cell_type": "code",
   "execution_count": 33,
   "id": "bcd3a7f7-4501-48ec-970b-da5b4d9eafb3",
   "metadata": {},
   "outputs": [
    {
     "name": "stdout",
     "output_type": "stream",
     "text": [
      "98/98 [==============================] - 0s 619us/step\n",
      "Accuracy: 0.794344473007712\n"
     ]
    },
    {
     "data": {
      "image/png": "[encoded data removed]",
      "text/plain": [
       "<Figure size 800x550 with 2 Axes>"
      ]
     },
     "metadata": {},
     "output_type": "display_data"
    }
   ],
   "source": [
    "#Prediction accuracy using predict method\n",
    "predictions = model.predict(X_test)\n",
    "predicted_labels = np.argmax(predictions, axis=1)\n",
    "accuracy = np.mean(predicted_labels == y_test)\n",
    "print('Accuracy:', accuracy)\n",
    "\n",
    "#---Confusion matrix\n",
    "cm = confusion_matrix(y_test, predicted_labels)\n",
    "\n",
    "#---Create heatmap\n",
    "sns.heatmap(cm, annot=True, fmt='d', cmap='Blues', xticklabels=target_dict.keys(), yticklabels=target_dict.keys())\n",
    "\n",
    "#---Set axis labels and title\n",
    "plt.xlabel('Predicted')\n",
    "plt.ylabel('True')\n",
    "plt.title('Confusion Matrix')\n",
    "\n",
    "#---Show the plot\n",
    "plt.show()"
   ]
  },
  {
   "cell_type": "code",
   "execution_count": null,
   "id": "2dba0915-b6e6-48b0-b34f-b138a269feef",
   "metadata": {},
   "outputs": [],
   "source": [
    "#Predictions probabilities in barplot style\n",
    "def plot_predictions(predictions):\n",
    "\n",
    "    num_predictions = len(predictions)\n",
    "    num_subplots = 4  # Assuming 2 subplots per row, you can adjust as needed\n",
    "    num_rows = (num_predictions + num_subplots - 1) // num_subplots\n",
    "\n",
    "    fig, axs = plt.subplots(num_rows, num_subplots, figsize=(14, 2 * num_rows))\n",
    "\n",
    "    for i, prediction in enumerate(predictions):\n",
    "        row = i // num_subplots\n",
    "        col = i % num_subplots\n",
    "\n",
    "        ax = axs[row, col]\n",
    "        ax.bar(range(len(prediction)), prediction)\n",
    "        ax.set_xlabel('Categories')\n",
    "        ax.set_ylabel('Probability')\n",
    "        ax.set_title(f'Prediction {i+1}')\n",
    "\n",
    "    # Adjust the spacing between subplots\n",
    "    fig.tight_layout()\n",
    "\n",
    "    # Display the plot\n",
    "    plt.show()\n",
    "    \n",
    "plot_predictions(predictions.tolist()[:12])"
   ]
  },
  {
   "cell_type": "markdown",
   "id": "d45b7f3a-a814-4b70-951c-ee521317e12d",
   "metadata": {
    "jp-MarkdownHeadingCollapsed": true,
    "tags": []
   },
   "source": [
    "### Save a model"
   ]
  },
  {
   "cell_type": "code",
   "execution_count": null,
   "id": "effe9530-af26-40fd-a793-6922b77840b9",
   "metadata": {},
   "outputs": [],
   "source": [
    "#Save model\n",
    "# Save the weights\n",
    "model.save_weights('models/populate_data_model')"
   ]
  },
  {
   "cell_type": "markdown",
   "id": "4973e496-11a4-4e75-90cc-4b9581e9010a",
   "metadata": {
    "jp-MarkdownHeadingCollapsed": true,
    "tags": []
   },
   "source": [
    "## ---------------------------------------------------------------------------------------------------------------------------------\n",
    "## ------Neural network training on a modified genre datasets\n",
    "## ---------------------------------------------------------------------------------------------------------------------------------"
   ]
  },
  {
   "cell_type": "markdown",
   "id": "bd8265fa-3089-41d8-b8f0-b5ed942493f3",
   "metadata": {
    "jp-MarkdownHeadingCollapsed": true,
    "tags": []
   },
   "source": [
    "### Functions"
   ]
  },
  {
   "cell_type": "code",
   "execution_count": 34,
   "id": "70ae0d5b-5fb1-435a-b259-d162b0bcce46",
   "metadata": {},
   "outputs": [],
   "source": [
    "def prepare_data(genres):\n",
    "    \"\"\"\n",
    "    prepare_data() generates necessary data as an input to a model.\n",
    "    \n",
    "    Args:\n",
    "    - genres: a list of dataframes with features for every genre\n",
    "    \n",
    "    Returns:\n",
    "    - samples: an array with input samples to a model\n",
    "    - target: an array with output target to a model\n",
    "    - nn_dataframe: input/output dataframe\n",
    "    - target_dict: Encoded/Decoded target dictionary\n",
    "    \"\"\"\n",
    "    \n",
    "    # Feature columns used as input to a model\n",
    "    ready_cols = ['danceability', 'energy', 'speechiness',\n",
    "                  'acousticness', 'instrumentalness', 'liveness', 'valence']\n",
    "    nready_cols = ['loudness', 'tempo', 'duration_ms',\n",
    "                   'key', 'mode', 'time_signature']\n",
    "    \n",
    "    # Concatenate all dataframes and reset indexes\n",
    "    df = pd.concat(genres, ignore_index=True).set_index('Track URI')\n",
    "    ready_cols_df = df[ready_cols].reset_index()\n",
    "    nready_cols_df = df[nready_cols]\n",
    "    \n",
    "    # Normalization objects\n",
    "    scaler = MinMaxScaler()\n",
    "    encoder = LabelEncoder()\n",
    "    \n",
    "    # Normalize features\n",
    "    nready_cols_scaled = scaler.fit_transform(nready_cols_df.values)\n",
    "    nready_cols_scaled_df = pd.DataFrame(nready_cols_scaled, columns=nready_cols)\n",
    "    \n",
    "    # Input to a model\n",
    "    samples_df = pd.concat([ready_cols_df.drop(columns='Track URI'), nready_cols_scaled_df], axis=1)\n",
    "    samples = samples_df.values\n",
    "    \n",
    "    # Target output from a model\n",
    "    target = encoder.fit_transform(df['genres'].values)\n",
    "    target_df = pd.DataFrame(target, columns=['genres'])\n",
    "    \n",
    "    # Target dictionary\n",
    "    encoded_target = encoder.inverse_transform(target)\n",
    "    target_dict = dict(zip(encoded_target, target))\n",
    "    target_dict = dict(sorted(target_dict.items()))\n",
    "    \n",
    "    # Dataframe representation\n",
    "    nn_dataframe = pd.concat([samples_df, target_df], axis=1)\n",
    "    \n",
    "    return samples, target, nn_dataframe, target_dict\n",
    "\n",
    "def prepare_data_new_features(genres):\n",
    "    \"\"\"\n",
    "    prepare_data() generates necessary data as an input to a model.\n",
    "    \n",
    "    Args:\n",
    "    - genres: a list of dataframes with features for every genre\n",
    "    \n",
    "    Returns:\n",
    "    - samples: an array with input samples to a model\n",
    "    - target: an array with output target to a model\n",
    "    - nn_dataframe: input/output dataframe\n",
    "    - target_dict: Encoded/Decoded target dictionary\n",
    "    \"\"\"\n",
    "    \n",
    "    # Feature columns used as input to a model\n",
    "    ready_cols = ['danceability', 'energy', 'speechiness',\n",
    "                  'acousticness', 'instrumentalness', 'liveness', \n",
    "                  'valence', 'danceability_energy_ratio', 'danceability_valence_ratio']\n",
    "    nready_cols = ['loudness', 'tempo', 'duration_ms',\n",
    "                   'key', 'mode', 'time_signature']\n",
    "    \n",
    "    # Concatenate all dataframes and reset indexes\n",
    "    df = pd.concat(genres, ignore_index=True).set_index('Track URI')\n",
    "    ready_cols_df = df[ready_cols].reset_index()\n",
    "    nready_cols_df = df[nready_cols]\n",
    "    \n",
    "    # Normalization objects\n",
    "    scaler = MinMaxScaler()\n",
    "    encoder = LabelEncoder()\n",
    "    \n",
    "    # Normalize features\n",
    "    nready_cols_scaled = scaler.fit_transform(nready_cols_df.values)\n",
    "    nready_cols_scaled_df = pd.DataFrame(nready_cols_scaled, columns=nready_cols)\n",
    "    \n",
    "    # Input to a model\n",
    "    samples_df = pd.concat([ready_cols_df.drop(columns='Track URI'), nready_cols_scaled_df], axis=1)\n",
    "    samples = samples_df.values\n",
    "    \n",
    "    # Target output from a model\n",
    "    target = encoder.fit_transform(df['genres'].values)\n",
    "    target_df = pd.DataFrame(target, columns=['genres'])\n",
    "    \n",
    "    # Target dictionary\n",
    "    encoded_target = encoder.inverse_transform(target)\n",
    "    target_dict = dict(zip(encoded_target, target))\n",
    "    target_dict = dict(sorted(target_dict.items()))\n",
    "    \n",
    "    # Dataframe representation\n",
    "    nn_dataframe = pd.concat([samples_df, target_df], axis=1)\n",
    "    \n",
    "    return samples, target, nn_dataframe, target_dict\n",
    "\n",
    "def create_sample(genre):\n",
    "    \n",
    "    genre_df = genre[['danceability', 'energy', 'key', 'loudness',\n",
    "       'mode', 'speechiness', 'acousticness', 'instrumentalness', 'liveness',\n",
    "       'valence', 'tempo', 'duration_ms', 'time_signature']]\n",
    "    features = genre_df.columns\n",
    "    \n",
    "    random_features = []\n",
    "    for feature in features:\n",
    "        p25 = genre_df[feature].describe()[4]\n",
    "        p75 = genre_df[feature].describe()[6]\n",
    "        random_value = rnd.uniform(p25, p75)\n",
    "        random_features.append(random_value)\n",
    "   \n",
    "    sample = pd.DataFrame(data=[random_features], columns=features)\n",
    "    sample['genres'] = genre['genres']\n",
    "    sample[['key', 'mode', 'time_signature']] = sample[['key', 'mode', 'time_signature']].astype(int)\n",
    "    \n",
    "    return sample\n",
    "\n",
    "def populate(genre, r):\n",
    "    columns = ['Unnamed: 0', 'Track URI', 'danceability', 'energy', 'key', 'loudness',\n",
    "               'mode', 'speechiness', 'acousticness', 'instrumentalness', 'liveness',\n",
    "               'valence', 'tempo', 'duration_ms', 'time_signature', 'genres']\n",
    "\n",
    "    df = pd.DataFrame(columns=columns)\n",
    "\n",
    "    i = 0\n",
    "    for i in range(r):\n",
    "        sample = create_sample(genre)\n",
    "        sample['Unnamed: 0'] = 0  # Fill 'Unnamed: 0' with a placeholder value\n",
    "        sample['Track URI'] = 'placeholder'  # Fill 'Track URI' with a placeholder value\n",
    "        df = pd.concat([df, sample], ignore_index=True)\n",
    "        i = i + 1\n",
    "\n",
    "\n",
    "    populated_df = pd.concat([genre, df])\n",
    "    \n",
    "    return populated_df\n",
    "\n",
    "def create_model(input_shape):\n",
    "    \"\"\"\n",
    "    create_model() allows customizing and building a model.\n",
    "    \n",
    "    Args:\n",
    "    - input_shape: shape of the input\n",
    "    \n",
    "    Returns:\n",
    "    - model: neural network model\n",
    "    \"\"\"\n",
    "    \n",
    "    model = tf.keras.models.Sequential([\n",
    "        tf.keras.layers.Flatten(input_shape=input_shape),\n",
    "        tf.keras.layers.Dense(64, activation='relu'),\n",
    "        tf.keras.layers.Dense(32, activation='relu'),\n",
    "        tf.keras.layers.Dropout(0.3),\n",
    "        tf.keras.layers.Dense(6, activation='softmax')\n",
    "    ])\n",
    "    \n",
    "    # Compiler\n",
    "    loss_func = tf.keras.losses.SparseCategoricalCrossentropy(from_logits=False)\n",
    "    model.compile(optimizer='adam',\n",
    "                  loss=loss_func,\n",
    "                  metrics=['accuracy'])\n",
    "    \n",
    "    return model\n",
    "\n",
    "def train_model(model, X_train, y_train):\n",
    "    \"\"\"\n",
    "    train_model() trains a model and plots training characteristics.\n",
    "    \n",
    "    Args:\n",
    "    - model: neural network architecture\n",
    "    - X_train, y_train: input and target output\n",
    "    \n",
    "    Returns:\n",
    "    - trained_model: trained neural network\n",
    "    \"\"\"\n",
    "    \n",
    "    # Train the model\n",
    "    trained_model = model.fit(X_train, y_train, batch_size=32, epochs=100, verbose=0, validation_split=0.2)\n",
    "    \n",
    "    # Plot training and validation loss\n",
    "    fig, axes = plt.subplots(nrows=1, ncols=2, figsize=(13, 4))\n",
    "    axes[0].plot(trained_model.history['loss'], label='Training Loss')\n",
    "    axes[0].plot(trained_model.history['val_loss'], label='Validation Loss')\n",
    "    axes[0].set_xlabel('Epoch')\n",
    "    axes[0].set_ylabel('Loss')\n",
    "    axes[0].legend()\n",
    "    \n",
    "    # Plot training and validation accuracy\n",
    "    axes[1].plot(trained_model.history['accuracy'], label='Training Accuracy')\n",
    "    axes[1].plot(trained_model.history['val_accuracy'], label='Validation Accuracy')\n",
    "    axes[1].set_xlabel('Epoch')\n",
    "    axes[1].set_ylabel('Accuracy')\n",
    "    axes[1].legend()\n",
    "    \n",
    "    plt.tight_layout()\n",
    "    plt.show()\n",
    "    \n",
    "    return trained_model\n",
    "\n",
    "def evaluate_model(model, X_test, y_test):\n",
    "    \"\"\"\n",
    "    evaluate_model() evaluates a model on test data.\n",
    "    \n",
    "    Args:\n",
    "    - model: neural network architecture\n",
    "    - X_test, y_test: input and target output\n",
    "    \n",
    "    Returns:\n",
    "    - None\n",
    "    \"\"\"\n",
    "    \n",
    "    # Evaluating to check performance\n",
    "    model.evaluate(X_test, y_test, verbose=2)\n",
    "    \n",
    "    return"
   ]
  },
  {
   "cell_type": "markdown",
   "id": "361484c9-05b9-43c0-979f-939a9f5b7e6f",
   "metadata": {
    "tags": []
   },
   "source": [
    "### Initialize raw data"
   ]
  },
  {
   "cell_type": "code",
   "execution_count": 43,
   "id": "2981b5d8-922f-4d83-affb-78208bc1030e",
   "metadata": {},
   "outputs": [],
   "source": [
    "#Original Genres data\n",
    "hiphop = pd.read_csv('GenresDatasetGenerator/Genres/HipHopGenre_pop.csv')\n",
    "rock = pd.read_csv('GenresDatasetGenerator/Genres/RockGenre_pop.csv')\n",
    "classical = pd.read_csv('GenresDatasetGenerator/Genres/ClassicalGenre_pop.csv')\n",
    "electronic = pd.read_csv('GenresDatasetGenerator/Genres/ElectronicGenre_pop.csv')\n",
    "alternative = pd.read_csv('GenresDatasetGenerator/Genres/AlternativeGenre_pop.csv')\n",
    "pop = pd.read_csv('GenresDatasetGenerator/Genres/PopGenre_pop.csv')\n",
    "\n",
    "genres = [hiphop, rock, classical, electronic, alternative, pop]"
   ]
  },
  {
   "cell_type": "markdown",
   "id": "03835fb4-9b7c-4d0f-a7c8-79a86882b442",
   "metadata": {
    "tags": []
   },
   "source": [
    "### Data optimization methods\n",
    "#### (I) Populating Median Neigbourhood\n",
    "#### (II) Feature Extracting\n",
    "#### (III) KDE Trimming"
   ]
  },
  {
   "cell_type": "markdown",
   "id": "80884415-7a67-4e24-b6d8-5c16f006286d",
   "metadata": {
    "tags": []
   },
   "source": [
    "### (I) Populating Median Neighbourhood"
   ]
  },
  {
   "cell_type": "markdown",
   "id": "68cc21b3-06af-438a-a9b3-af4f7e3a694c",
   "metadata": {
    "jp-MarkdownHeadingCollapsed": true,
    "tags": []
   },
   "source": [
    "#### Populate dataframe"
   ]
  },
  {
   "cell_type": "code",
   "execution_count": null,
   "id": "3cee3fa1-279b-4357-84d3-75a2636f3bd9",
   "metadata": {},
   "outputs": [],
   "source": [
    "alternative = populate(alternative, 100)\n",
    "classical = populate(classical, 100)\n",
    "electronic = populate(electronic, 100)\n",
    "hiphop = populate(hiphop, 100)\n",
    "pop = populate(pop, 100)\n",
    "rock = populate(rock, 100)\n",
    "\n",
    "genres = [hiphop, rock, classical, electronic, alternative, pop]"
   ]
  },
  {
   "cell_type": "markdown",
   "id": "5bbed81b-e2e4-4fac-849f-4a01c50dd3b5",
   "metadata": {
    "tags": []
   },
   "source": [
    "### (II) Feature Extracting"
   ]
  },
  {
   "cell_type": "markdown",
   "id": "20bb8a27-7f3d-49f8-a3e6-9a86fc53b860",
   "metadata": {
    "tags": []
   },
   "source": [
    "#### Add new features and prepare data"
   ]
  },
  {
   "cell_type": "code",
   "execution_count": 45,
   "id": "f0ffeaa4-ac51-4f78-ae38-2558115d242d",
   "metadata": {},
   "outputs": [],
   "source": [
    "for genre in genres:\n",
    "    genre['danceability_energy_ratio'] = genre['danceability'] * genre['energy']\n",
    "    genre['danceability_valence_ratio'] = genre['danceability'] * genre['valence']\n",
    "\n",
    "genres = [hiphop, rock, classical, electronic, alternative, pop]"
   ]
  },
  {
   "cell_type": "markdown",
   "id": "c399b9f5-f9c8-444d-8734-800c841cb87b",
   "metadata": {
    "tags": []
   },
   "source": [
    "### (III) Kernel Density Estimation Trimming"
   ]
  },
  {
   "cell_type": "markdown",
   "id": "4a2937dc-2d9b-47e8-97dd-9f8f2b12183a",
   "metadata": {
    "tags": []
   },
   "source": [
    "#### Trim data by feature"
   ]
  },
  {
   "cell_type": "code",
   "execution_count": 44,
   "id": "da582add-6df5-434b-a270-76b72516ec07",
   "metadata": {
    "tags": []
   },
   "outputs": [],
   "source": [
    "#Take a dataframe and trim by feature\n",
    "hiphop = hiphop[(hiphop['danceability'] > 0.7) & (hiphop['danceability'] < 1)]\n",
    "hiphop = hiphop[(hiphop['energy'] > 0.4) & (hiphop['energy'] < 0.8)]\n",
    "\n",
    "rock = rock[(rock['danceability'] > 0.4) & (rock['danceability'] < 0.6)]\n",
    "rock = rock[(rock['danceability'] > 0.5) & (rock['danceability'] < 1)]\n",
    "\n",
    "classical = classical[(classical['danceability'] > 0.1) & (classical['danceability'] < 0.4)]\n",
    "\n",
    "electronic = electronic[(electronic['danceability'] > 0.6) & (electronic['danceability'] < 0.75)]\n",
    "electronic = electronic[(electronic['energy'] > 0.6) & (electronic['danceability'] < 1)]\n",
    "\n",
    "alternative = alternative[(alternative['danceability'] > 0.5) & (alternative['danceability'] < 0.7)]\n",
    "\n",
    "pop = pop[(pop['danceability'] > 0.6) & (pop['danceability'] < 0.9)]\n",
    "pop = pop[(pop['energy'] > 0.4) & (pop['energy'] < 0.9)]\n",
    "\n",
    "genres = [hiphop, rock, classical, electronic, alternative, pop]"
   ]
  },
  {
   "cell_type": "markdown",
   "id": "2006c908-63a4-4185-a6cd-556209818b1d",
   "metadata": {
    "tags": []
   },
   "source": [
    "### Prepare and visualize"
   ]
  },
  {
   "cell_type": "markdown",
   "id": "d056e2ae-e3f4-49d3-9a2f-3604a221e3ba",
   "metadata": {
    "jp-MarkdownHeadingCollapsed": true,
    "tags": []
   },
   "source": [
    "#### Prepare optimized data"
   ]
  },
  {
   "cell_type": "code",
   "execution_count": 46,
   "id": "5a0481a1-58e4-4d44-8527-0cf5b35547cc",
   "metadata": {},
   "outputs": [],
   "source": [
    "# Create and preprocess training data\n",
    "\n",
    "#For raw data\n",
    "#samples, target, nn_dataframe, target_dict = prepare_data(genres)\n",
    "\n",
    "#For modified data (with new features)\n",
    "samples, target, nn_dataframe, target_dict = prepare_data_new_features(genres)"
   ]
  },
  {
   "cell_type": "markdown",
   "id": "8ebf836b-68bf-4c38-824b-96d7d84d32b3",
   "metadata": {
    "jp-MarkdownHeadingCollapsed": true,
    "tags": []
   },
   "source": [
    "#### Visualize KDE"
   ]
  },
  {
   "cell_type": "code",
   "execution_count": 47,
   "id": "cd131795-73b0-4b58-9322-0a9f23ad07b8",
   "metadata": {},
   "outputs": [
    {
     "name": "stdout",
     "output_type": "stream",
     "text": [
      "{'alternative': 0, 'classical': 1, 'electronic': 2, 'hiphop': 3, 'pop': 4, 'rock': 5}\n",
      "Index(['danceability', 'energy', 'speechiness', 'acousticness',\n",
      "       'instrumentalness', 'liveness', 'valence', 'danceability_energy_ratio',\n",
      "       'danceability_valence_ratio', 'loudness', 'tempo', 'duration_ms', 'key',\n",
      "       'mode', 'time_signature', 'genres'],\n",
      "      dtype='object')\n"
     ]
    },
    {
     "data": {
      "image/png": "[encoded data removed]",
      "text/plain": [
       "<Figure size 800x550 with 1 Axes>"
      ]
     },
     "metadata": {},
     "output_type": "display_data"
    }
   ],
   "source": [
    "#Feature KDE\n",
    "sns.kdeplot(data = nn_dataframe, x = 'danceability', hue = 'genres', bw_adjust=0.5)\n",
    "print(target_dict)\n",
    "print(nn_dataframe.columns)"
   ]
  },
  {
   "cell_type": "markdown",
   "id": "160d6dc2-c4f2-419c-a9a2-3e76f97e8b08",
   "metadata": {
    "jp-MarkdownHeadingCollapsed": true,
    "tags": []
   },
   "source": [
    "### Train a model"
   ]
  },
  {
   "cell_type": "code",
   "execution_count": 48,
   "id": "0b38a186-19e9-4e25-9bca-b1dd49dbea28",
   "metadata": {},
   "outputs": [
    {
     "data": {
      "image/png": "[encoded data removed]",
      "text/plain": [
       "<Figure size 1300x400 with 2 Axes>"
      ]
     },
     "metadata": {},
     "output_type": "display_data"
    },
    {
     "name": "stdout",
     "output_type": "stream",
     "text": [
      "66/66 - 0s - loss: 0.3549 - accuracy: 0.8673 - 53ms/epoch - 803us/step\n"
     ]
    }
   ],
   "source": [
    "# Data split\n",
    "X_train, X_test, y_train, y_test = train_test_split(samples, target)\n",
    "\n",
    "# Create a model\n",
    "#model = create_model(input_shape=(13, 1))\n",
    "# If additional features\n",
    "model = create_model(input_shape=(15, 1))\n",
    "\n",
    "# Train a model\n",
    "trained_model = train_model(model, X_train, y_train)\n",
    "\n",
    "# Evaluate on a test set\n",
    "evaluate_model(model, X_test, y_test)"
   ]
  },
  {
   "cell_type": "markdown",
   "id": "1e2c37b5-f535-47c0-be20-3c7ba2aa0171",
   "metadata": {
    "jp-MarkdownHeadingCollapsed": true,
    "tags": []
   },
   "source": [
    "### Visualize"
   ]
  },
  {
   "cell_type": "code",
   "execution_count": 49,
   "id": "ddd81be7-7ea6-480c-96f6-27d102c8646f",
   "metadata": {},
   "outputs": [
    {
     "name": "stdout",
     "output_type": "stream",
     "text": [
      "66/66 [==============================] - 0s 823us/step\n",
      "Accuracy: 0.8672735984666986\n"
     ]
    },
    {
     "data": {
      "image/png": "[encoded data removed]",
      "text/plain": [
       "<Figure size 800x550 with 2 Axes>"
      ]
     },
     "metadata": {},
     "output_type": "display_data"
    }
   ],
   "source": [
    "#Prediction accuracy using predict method\n",
    "predictions = model.predict(X_test)\n",
    "predicted_labels = np.argmax(predictions, axis=1)\n",
    "accuracy = np.mean(predicted_labels == y_test)\n",
    "print('Accuracy:', accuracy)\n",
    "\n",
    "#---Confusion matrix\n",
    "cm = confusion_matrix(y_test, predicted_labels)\n",
    "\n",
    "#---Create heatmap\n",
    "sns.heatmap(cm, annot=True, fmt='d', cmap='Blues', xticklabels=target_dict.keys(), yticklabels=target_dict.keys())\n",
    "\n",
    "#---Set axis labels and title\n",
    "plt.xlabel('Predicted')\n",
    "plt.ylabel('True')\n",
    "plt.title('Confusion Matrix')\n",
    "\n",
    "#---Show the plot\n",
    "plt.show()"
   ]
  },
  {
   "cell_type": "code",
   "execution_count": null,
   "id": "a6ed8f8a-3c3e-40e5-80e2-892d2e336a0d",
   "metadata": {},
   "outputs": [],
   "source": [
    "#Predictions probabilities in barplot style\n",
    "def plot_predictions(predictions):\n",
    "\n",
    "    num_predictions = len(predictions)\n",
    "    num_subplots = 4  # Assuming 2 subplots per row, you can adjust as needed\n",
    "    num_rows = (num_predictions + num_subplots - 1) // num_subplots\n",
    "\n",
    "    fig, axs = plt.subplots(num_rows, num_subplots, figsize=(14, 2 * num_rows))\n",
    "\n",
    "    for i, prediction in enumerate(predictions):\n",
    "        row = i // num_subplots\n",
    "        col = i % num_subplots\n",
    "\n",
    "        ax = axs[row, col]\n",
    "        ax.bar(range(len(prediction)), prediction)\n",
    "        ax.set_xlabel('Categories')\n",
    "        ax.set_ylabel('Probability')\n",
    "        ax.set_title(f'Prediction {i+1}')\n",
    "\n",
    "    # Adjust the spacing between subplots\n",
    "    fig.tight_layout()\n",
    "\n",
    "    # Display the plot\n",
    "    plt.show()\n",
    "    \n",
    "plot_predictions(predictions.tolist()[:12])"
   ]
  },
  {
   "cell_type": "markdown",
   "id": "0c02ac6f-ac50-4ab5-ab57-d2b75be60dc3",
   "metadata": {
    "jp-MarkdownHeadingCollapsed": true,
    "tags": []
   },
   "source": [
    "### Save a model"
   ]
  },
  {
   "cell_type": "code",
   "execution_count": null,
   "id": "6b5e5b05-648f-444a-8740-ecc7e447d58f",
   "metadata": {},
   "outputs": [],
   "source": [
    "#Save model\n",
    "# Save the weights\n",
    "model.save_weights('models/optimizedata_model')"
   ]
  },
  {
   "cell_type": "markdown",
   "id": "0e326bd6-1d97-4b56-b433-4d570c0277b8",
   "metadata": {
    "jp-MarkdownHeadingCollapsed": true,
    "tags": []
   },
   "source": [
    "## ---------------------------------------------------------------------------------------------------------------------------------\n",
    "## -------Neural network architecture optimization\n",
    "## ---------------------------------------------------------------------------------------------------------------------------------"
   ]
  },
  {
   "cell_type": "markdown",
   "id": "1665da44-731e-41b0-902a-f2946e3aa54b",
   "metadata": {
    "tags": []
   },
   "source": [
    "### Functions"
   ]
  },
  {
   "cell_type": "code",
   "execution_count": null,
   "id": "54f24d36-d8b7-433f-b716-4d65e9ce29e5",
   "metadata": {},
   "outputs": [],
   "source": [
    "def prepare_data(genres):\n",
    "    \"\"\"\n",
    "    prepare_data() generates necessary data as an input to a model.\n",
    "    \n",
    "    Args:\n",
    "    - genres: a list of dataframes with features for every genre\n",
    "    \n",
    "    Returns:\n",
    "    - samples: an array with input samples to a model\n",
    "    - target: an array with output target to a model\n",
    "    - nn_dataframe: input/output dataframe\n",
    "    - target_dict: Encoded/Decoded target dictionary\n",
    "    \"\"\"\n",
    "    \n",
    "    # Feature columns used as input to a model\n",
    "    ready_cols = ['danceability', 'energy', 'speechiness',\n",
    "                  'acousticness', 'instrumentalness', 'liveness', 'valence']\n",
    "    nready_cols = ['loudness', 'tempo', 'duration_ms',\n",
    "                   'key', 'mode', 'time_signature']\n",
    "    \n",
    "    # Concatenate all dataframes and reset indexes\n",
    "    df = pd.concat(genres, ignore_index=True).set_index('Track URI')\n",
    "    ready_cols_df = df[ready_cols].reset_index()\n",
    "    nready_cols_df = df[nready_cols]\n",
    "    \n",
    "    # Normalization objects\n",
    "    scaler = MinMaxScaler()\n",
    "    encoder = LabelEncoder()\n",
    "    \n",
    "    # Normalize features\n",
    "    nready_cols_scaled = scaler.fit_transform(nready_cols_df.values)\n",
    "    nready_cols_scaled_df = pd.DataFrame(nready_cols_scaled, columns=nready_cols)\n",
    "    \n",
    "    # Input to a model\n",
    "    samples_df = pd.concat([ready_cols_df.drop(columns='Track URI'), nready_cols_scaled_df], axis=1)\n",
    "    samples = samples_df.values\n",
    "    \n",
    "    # Target output from a model\n",
    "    target = encoder.fit_transform(df['genres'].values)\n",
    "    target_df = pd.DataFrame(target, columns=['genres'])\n",
    "    \n",
    "    # Target dictionary\n",
    "    encoded_target = encoder.inverse_transform(target)\n",
    "    target_dict = dict(zip(encoded_target, target))\n",
    "    target_dict = dict(sorted(target_dict.items()))\n",
    "    \n",
    "    # Dataframe representation\n",
    "    nn_dataframe = pd.concat([samples_df, target_df], axis=1)\n",
    "    \n",
    "    return samples, target, nn_dataframe, target_dict\n",
    "\n",
    "def prepare_data_new_features(genres):\n",
    "    \"\"\"\n",
    "    prepare_data() generates necessary data as an input to a model.\n",
    "    \n",
    "    Args:\n",
    "    - genres: a list of dataframes with features for every genre\n",
    "    \n",
    "    Returns:\n",
    "    - samples: an array with input samples to a model\n",
    "    - target: an array with output target to a model\n",
    "    - nn_dataframe: input/output dataframe\n",
    "    - target_dict: Encoded/Decoded target dictionary\n",
    "    \"\"\"\n",
    "    \n",
    "    # Feature columns used as input to a model\n",
    "    ready_cols = ['danceability', 'energy', 'speechiness',\n",
    "                  'acousticness', 'instrumentalness', 'liveness', \n",
    "                  'valence', 'danceability_energy_ratio', 'danceability_valence_ratio']\n",
    "    nready_cols = ['loudness', 'tempo', 'duration_ms',\n",
    "                   'key', 'mode', 'time_signature']\n",
    "    \n",
    "    # Concatenate all dataframes and reset indexes\n",
    "    df = pd.concat(genres, ignore_index=True).set_index('Track URI')\n",
    "    ready_cols_df = df[ready_cols].reset_index()\n",
    "    nready_cols_df = df[nready_cols]\n",
    "    \n",
    "    # Normalization objects\n",
    "    scaler = MinMaxScaler()\n",
    "    encoder = LabelEncoder()\n",
    "    \n",
    "    # Normalize features\n",
    "    nready_cols_scaled = scaler.fit_transform(nready_cols_df.values)\n",
    "    nready_cols_scaled_df = pd.DataFrame(nready_cols_scaled, columns=nready_cols)\n",
    "    \n",
    "    # Input to a model\n",
    "    samples_df = pd.concat([ready_cols_df.drop(columns='Track URI'), nready_cols_scaled_df], axis=1)\n",
    "    samples = samples_df.values\n",
    "    \n",
    "    # Target output from a model\n",
    "    target = encoder.fit_transform(df['genres'].values)\n",
    "    target_df = pd.DataFrame(target, columns=['genres'])\n",
    "    \n",
    "    # Target dictionary\n",
    "    encoded_target = encoder.inverse_transform(target)\n",
    "    target_dict = dict(zip(encoded_target, target))\n",
    "    target_dict = dict(sorted(target_dict.items()))\n",
    "    \n",
    "    # Dataframe representation\n",
    "    nn_dataframe = pd.concat([samples_df, target_df], axis=1)\n",
    "    \n",
    "    return samples, target, nn_dataframe, target_dict\n",
    "\n",
    "def model_builder(hp):\n",
    "#--------------------------------------------------------------------------------\n",
    "#---model_builder() allows to build model architecture for hyperparameter tuning\n",
    "#--------------------------------------------------------------------------------\n",
    "\n",
    "    model = tf.keras.Sequential()\n",
    "    model.add(tf.keras.layers.Flatten(input_shape = (13, 1)))\n",
    "    \n",
    "    hp_activation = hp.Choice('activation', values = ['relu', 'tanh'])\n",
    "    hp_layer_1 = hp.Int('layer_1', min_value = 16, max_value = 128, step = 16)\n",
    "    hp_layer_2 = hp.Int('layer_2', min_value = 0, max_value = 128, step = 16)\n",
    "              \n",
    "    model.add(tf.keras.layers.Dense(units = hp_layer_1, activation = hp_activation))\n",
    "    model.add(tf.keras.layers.Dense(units = hp_layer_2, activation = hp_activation))\n",
    "    model.add(tf.keras.layers.Dropout(0.3))\n",
    "    model.add(tf.keras.layers.Dense(6, activation = 'softmax'))\n",
    "              \n",
    "    model.compile(optimizer = tf.keras.optimizers.Adam(),\n",
    "                  loss = tf.keras.losses.SparseCategoricalCrossentropy(),\n",
    "                  metrics = ['accuracy'])\n",
    "              \n",
    "    return model\n",
    "\n",
    "#---Optimizator definition\n",
    "def tuner(tuner):\n",
    "    stop_early = tf.keras.callbacks.EarlyStopping(monitor = 'val_loss', patience = 10)\n",
    "    tuner.search(X_train, y_train, epochs = 100, validation_split = 0.2, callbacks = [stop_early])\n",
    "    #tuner.results_summary()\n",
    "    best_hps = tuner.get_best_hyperparameters(num_trials = 1)[0]\n",
    "    model = tuner.hypermodel.build(best_hps)\n",
    "    model.summary()\n",
    "    \n",
    "    return model"
   ]
  },
  {
   "cell_type": "markdown",
   "id": "44b40afd-102a-412d-9282-910016d2c2a2",
   "metadata": {
    "tags": []
   },
   "source": [
    "### Load training data"
   ]
  },
  {
   "cell_type": "markdown",
   "id": "6fb82d3b-2b1b-40a4-8cd2-2e500e809b4b",
   "metadata": {
    "jp-MarkdownHeadingCollapsed": true,
    "tags": []
   },
   "source": [
    "#### Load raw data"
   ]
  },
  {
   "cell_type": "code",
   "execution_count": null,
   "id": "a4d0dafc-3afa-4ea2-aa2c-edd0ca96ab48",
   "metadata": {},
   "outputs": [],
   "source": [
    "#Original Genres data\n",
    "hiphop = pd.read_csv('GenresDatasetGenerator/Genres/HipHopGenre.csv')\n",
    "rock = pd.read_csv('GenresDatasetGenerator/Genres/RockGenre.csv')\n",
    "classical = pd.read_csv('GenresDatasetGenerator/Genres/ClassicalGenre.csv')\n",
    "electronic = pd.read_csv('GenresDatasetGenerator/Genres/ElectronicGenre.csv')\n",
    "alternative = pd.read_csv('GenresDatasetGenerator/Genres/AlternativeGenre.csv')\n",
    "pop = pd.read_csv('GenresDatasetGenerator/Genres/PopGenre.csv')\n",
    "\n",
    "genres = [hiphop, rock, classical, electronic, alternative, pop]"
   ]
  },
  {
   "cell_type": "markdown",
   "id": "a55c3141-9bf5-4c9a-90a6-e377cde0a192",
   "metadata": {
    "tags": []
   },
   "source": [
    "#### Load modified data - use \"Neural network training on a modified genre datasets\" module"
   ]
  },
  {
   "cell_type": "markdown",
   "id": "0f34c79c-74b5-4d95-9f84-1f1a415bb6f8",
   "metadata": {
    "jp-MarkdownHeadingCollapsed": true,
    "tags": []
   },
   "source": [
    "#### Preprocess and split raw data"
   ]
  },
  {
   "cell_type": "code",
   "execution_count": null,
   "id": "6ead5e64-d910-454f-bb7a-9cd322a123b4",
   "metadata": {},
   "outputs": [],
   "source": [
    "# Create and preprocess training data\n",
    "samples, target, nn_dataframe, target_dict = prepare_data(genres)\n",
    "# Data split\n",
    "X_train, X_test, y_train, y_test = train_test_split(samples, target)"
   ]
  },
  {
   "cell_type": "markdown",
   "id": "75b85837-441b-4d2e-a2e4-7251638fe467",
   "metadata": {
    "jp-MarkdownHeadingCollapsed": true,
    "tags": []
   },
   "source": [
    "#### Preprocess and split modified data"
   ]
  },
  {
   "cell_type": "code",
   "execution_count": null,
   "id": "ef14fa64-d254-4945-8550-cf13e66d3e53",
   "metadata": {},
   "outputs": [],
   "source": [
    "# Create and preprocess training data\n",
    "samples, target, nn_dataframe, target_dict = prepare_data_new_features(genres)\n",
    "# Data split\n",
    "X_train, X_test, y_train, y_test = train_test_split(samples, target)"
   ]
  },
  {
   "cell_type": "markdown",
   "id": "b43904a5-9ec8-42ad-a805-17a76e0a2544",
   "metadata": {
    "tags": []
   },
   "source": [
    "### Choose a tuner and build a model"
   ]
  },
  {
   "cell_type": "code",
   "execution_count": null,
   "id": "ac88ffb0-020f-42a2-8a70-ad23764b4249",
   "metadata": {},
   "outputs": [],
   "source": [
    "#---Available tuners\n",
    "hb_tuner = kt.Hyperband(model_builder,\n",
    "                     objective = 'val_accuracy',\n",
    "                     max_epochs = 100,\n",
    "                     factor = 3,\n",
    "                     directory = 'keras-tuner',\n",
    "                     overwrite = True,\n",
    "                     project_name = 'test')\n",
    "\n",
    "rs_tuner = kt.RandomSearch(model_builder,\n",
    "                         objective=\"val_accuracy\",\n",
    "                         max_trials=10,\n",
    "                         executions_per_trial=2,\n",
    "                         overwrite=True,\n",
    "                         directory=\"keras-tuner\",\n",
    "                         project_name=\"testt\")\n",
    "\n",
    "gs_tuner = kt.GridSearch(model_builder,\n",
    "                         objective = 'val_accuracy',\n",
    "                         max_trials = 20,\n",
    "                         directory = 'keras-tuner',\n",
    "                         overwrite = True,\n",
    "                         project_name = 'best_model_gstuner')\n",
    "\n",
    "#Build a model defined by \n",
    "model = tuner(gs_tuner)"
   ]
  },
  {
   "cell_type": "markdown",
   "id": "68ca5369-13b5-4110-9aa0-eaf5a03fec1d",
   "metadata": {
    "jp-MarkdownHeadingCollapsed": true,
    "tags": []
   },
   "source": [
    "### Save a model"
   ]
  },
  {
   "cell_type": "code",
   "execution_count": null,
   "id": "df293b62-45ea-4db7-af87-130176475bf3",
   "metadata": {},
   "outputs": [],
   "source": [
    "#Save model\n",
    "# Save the weights\n",
    "model.save_weights('models/hptuner_model')"
   ]
  },
  {
   "cell_type": "markdown",
   "id": "da359e78-34a6-4be7-93bd-887ca4e68a53",
   "metadata": {
    "jp-MarkdownHeadingCollapsed": true,
    "tags": []
   },
   "source": [
    "## ---------------------------------------------------------------------------------------------------------------------------------\n",
    "## -------Predictions\n",
    "## ---------------------------------------------------------------------------------------------------------------------------------"
   ]
  },
  {
   "cell_type": "markdown",
   "id": "625b25c6-fec0-450c-aa93-fd17d59b365f",
   "metadata": {
    "jp-MarkdownHeadingCollapsed": true,
    "tags": []
   },
   "source": [
    "### Functions"
   ]
  },
  {
   "cell_type": "code",
   "execution_count": null,
   "id": "ab95ed2b-6ec2-458b-8596-e744c724af8a",
   "metadata": {},
   "outputs": [],
   "source": [
    "def create_model(input_shape):\n",
    "    \"\"\"\n",
    "    create_model() allows customizing and building a model.\n",
    "    \n",
    "    Args:\n",
    "    - input_shape: shape of the input\n",
    "    \n",
    "    Returns:\n",
    "    - model: neural network model\n",
    "    \"\"\"\n",
    "    \n",
    "    model = tf.keras.models.Sequential([\n",
    "        tf.keras.layers.Flatten(input_shape=input_shape),\n",
    "        tf.keras.layers.Dense(64, activation='relu'),\n",
    "        tf.keras.layers.Dense(32, activation='relu'),\n",
    "        tf.keras.layers.Dropout(0.3),\n",
    "        tf.keras.layers.Dense(6, activation='softmax')\n",
    "    ])\n",
    "    \n",
    "    # Compiler\n",
    "    loss_func = tf.keras.losses.SparseCategoricalCrossentropy(from_logits=False)\n",
    "    model.compile(optimizer='adam',\n",
    "                  loss=loss_func,\n",
    "                  metrics=['accuracy'])\n",
    "    \n",
    "    return model\n",
    "\n",
    "#Predictions probabilities in barplot style\n",
    "def plot_predictions(predictions):\n",
    "\n",
    "    num_predictions = len(predictions)\n",
    "    num_subplots = 4  # Assuming 2 subplots per row, you can adjust as needed\n",
    "    num_rows = (num_predictions + num_subplots - 1) // num_subplots\n",
    "\n",
    "    fig, axs = plt.subplots(num_rows, num_subplots, figsize=(14, 2 * num_rows))\n",
    "\n",
    "    for i, prediction in enumerate(predictions):\n",
    "        row = i // num_subplots\n",
    "        col = i % num_subplots\n",
    "\n",
    "        ax = axs[row, col]\n",
    "        ax.bar(range(len(prediction)), prediction)\n",
    "        ax.set_xlabel('Categories')\n",
    "        ax.set_ylabel('Probability')\n",
    "        ax.set_title(f'Prediction {i+1}')\n",
    "\n",
    "    # Adjust the spacing between subplots\n",
    "    fig.tight_layout()\n",
    "\n",
    "    # Display the plot\n",
    "    plt.show()\n",
    "    \n",
    "def prepare_data_new_features(genres):\n",
    "    \"\"\"\n",
    "    prepare_data() generates necessary data as an input to a model.\n",
    "    \n",
    "    Args:\n",
    "    - genres: a list of dataframes with features for every genre\n",
    "    \n",
    "    Returns:\n",
    "    - samples: an array with input samples to a model\n",
    "    - target: an array with output target to a model\n",
    "    - nn_dataframe: input/output dataframe\n",
    "    - target_dict: Encoded/Decoded target dictionary\n",
    "    \"\"\"\n",
    "    \n",
    "    # Feature columns used as input to a model\n",
    "    ready_cols = ['danceability', 'energy', 'speechiness',\n",
    "                  'acousticness', 'instrumentalness', 'liveness', \n",
    "                  'valence', 'danceability_energy_ratio', 'danceability_valence_ratio']\n",
    "    nready_cols = ['loudness', 'tempo', 'duration_ms',\n",
    "                   'key', 'mode', 'time_signature']\n",
    "    \n",
    "    # Concatenate all dataframes and reset indexes\n",
    "    df = pd.concat(genres, ignore_index=True).set_index('Track URI')\n",
    "    ready_cols_df = df[ready_cols].reset_index()\n",
    "    nready_cols_df = df[nready_cols]\n",
    "    \n",
    "    # Normalization objects\n",
    "    scaler = MinMaxScaler()\n",
    "    encoder = LabelEncoder()\n",
    "    \n",
    "    # Normalize features\n",
    "    nready_cols_scaled = scaler.fit_transform(nready_cols_df.values)\n",
    "    nready_cols_scaled_df = pd.DataFrame(nready_cols_scaled, columns=nready_cols)\n",
    "    \n",
    "    # Input to a model\n",
    "    samples_df = pd.concat([ready_cols_df.drop(columns='Track URI'), nready_cols_scaled_df], axis=1)\n",
    "    samples = samples_df.values\n",
    "    \n",
    "    # Target output from a model\n",
    "    target = encoder.fit_transform(df['genres'].values)\n",
    "    target_df = pd.DataFrame(target, columns=['genres'])\n",
    "    \n",
    "    # Target dictionary\n",
    "    encoded_target = encoder.inverse_transform(target)\n",
    "    target_dict = dict(zip(encoded_target, target))\n",
    "    target_dict = dict(sorted(target_dict.items()))\n",
    "    \n",
    "    # Dataframe representation\n",
    "    nn_dataframe = pd.concat([samples_df, target_df], axis=1)\n",
    "    \n",
    "    return samples, target, nn_dataframe, target_dict\n",
    "\n",
    "#Predictions for unknown data\n",
    "def data_prep(df):\n",
    "    \n",
    "    ready_cols = ['danceability', 'energy', 'speechiness', \n",
    "                  'acousticness', 'instrumentalness', 'liveness', 'valence']\n",
    "    nready_cols = ['loudness', 'tempo', 'duration_ms', \n",
    "                   'key', 'mode', 'time_signature']\n",
    "\n",
    "    #---Concatenate all and reset indexes\n",
    "    df = df.set_index('Track URI')\n",
    "    ready_cols_df = df[ready_cols].reset_index()\n",
    "    nready_cols_df = df[nready_cols]\n",
    "\n",
    "    #---Normalization objects\n",
    "    scaler = MinMaxScaler()\n",
    "    encoder = LabelEncoder()\n",
    "\n",
    "    #---Normalize features\n",
    "    #------nready_cols_scaled - transformed data\n",
    "    #------nready_cols_scaled_df - dataframe\n",
    "    nready_cols_scaled = scaler.fit_transform(nready_cols_df.values) \n",
    "    nready_cols_scaled_df = pd.DataFrame(nready_cols_scaled, columns = nready_cols)\n",
    "    \n",
    "    #---Input to a model\n",
    "    samples_df = pd.concat([ready_cols_df.drop(columns = 'Track URI'), nready_cols_scaled_df], axis = 1)\n",
    "    samples = samples_df.values\n",
    "    \n",
    "    return samples, samples_df\n",
    "\n",
    "#Predictions for unknown data\n",
    "def data_prep_m(df):\n",
    "    \n",
    "    ready_cols = ['danceability', 'energy', 'speechiness', \n",
    "                  'acousticness', 'instrumentalness', 'liveness', 'valence',\n",
    "                  'danceability_energy_ratio', 'danceability_valence_ratio']\n",
    "    nready_cols = ['loudness', 'tempo', 'duration_ms', \n",
    "                   'key', 'mode', 'time_signature']\n",
    "\n",
    "    #---Concatenate all and reset indexes\n",
    "    df = df.set_index('Track URI')\n",
    "    ready_cols_df = df[ready_cols].reset_index()\n",
    "    nready_cols_df = df[nready_cols]\n",
    "\n",
    "    #---Normalization objects\n",
    "    scaler = MinMaxScaler()\n",
    "    encoder = LabelEncoder()\n",
    "\n",
    "    #---Normalize features\n",
    "    #------nready_cols_scaled - transformed data\n",
    "    #------nready_cols_scaled_df - dataframe\n",
    "    nready_cols_scaled = scaler.fit_transform(nready_cols_df.values) \n",
    "    nready_cols_scaled_df = pd.DataFrame(nready_cols_scaled, columns = nready_cols)\n",
    "    \n",
    "    #---Input to a model\n",
    "    samples_df = pd.concat([ready_cols_df.drop(columns = 'Track URI'), nready_cols_scaled_df], axis = 1)\n",
    "    samples = samples_df.values\n",
    "    \n",
    "    return samples, samples_df"
   ]
  },
  {
   "cell_type": "markdown",
   "id": "39ab2734-9ac0-472b-8775-2cc871a42a33",
   "metadata": {
    "jp-MarkdownHeadingCollapsed": true,
    "tags": []
   },
   "source": [
    "### Create and load a model"
   ]
  },
  {
   "cell_type": "code",
   "execution_count": null,
   "id": "90ce8b1b-e11b-4aff-9adf-60e1c8dfe8ed",
   "metadata": {},
   "outputs": [],
   "source": [
    "#Create a model\n",
    "model = create_model(input_shape=(15, 1))\n",
    "#Load model\n",
    "# Restore the weights\n",
    "model.load_weights('models/optimizedata_model')\n",
    "#Show summary\n",
    "model.summary()"
   ]
  },
  {
   "cell_type": "markdown",
   "id": "dba0dd7d-fbe8-4c51-be79-fb19d575f80d",
   "metadata": {
    "tags": []
   },
   "source": [
    "### Model predictions on a test data in barplot style"
   ]
  },
  {
   "cell_type": "markdown",
   "id": "690fda72-4efb-419c-a736-3afe3cfa4d55",
   "metadata": {
    "jp-MarkdownHeadingCollapsed": true,
    "tags": []
   },
   "source": [
    "#### For test data use neural network modules"
   ]
  },
  {
   "cell_type": "markdown",
   "id": "e819c32d-13e8-40a7-b397-14701b8c8558",
   "metadata": {
    "jp-MarkdownHeadingCollapsed": true,
    "tags": []
   },
   "source": [
    "#### Predict on a test set"
   ]
  },
  {
   "cell_type": "code",
   "execution_count": null,
   "id": "8a31d119-e8cb-4711-a99c-3ad8258735f6",
   "metadata": {},
   "outputs": [],
   "source": [
    "#Prediction accuracy using predict method\n",
    "predictions = model.predict(X_test)\n",
    "predicted_labels = np.argmax(predictions, axis=1)\n",
    "accuracy = np.mean(predicted_labels == y_test)\n",
    "print('Accuracy:', accuracy)\n",
    "\n",
    "#---Confusion matrix\n",
    "cm = confusion_matrix(y_test, predicted_labels)\n",
    "\n",
    "#---Create heatmap\n",
    "sns.heatmap(cm, annot=True, fmt='d', cmap='Blues', xticklabels=target_dict.keys(), yticklabels=target_dict.keys())\n",
    "\n",
    "#---Set axis labels and title\n",
    "plt.xlabel('Predicted')\n",
    "plt.ylabel('True')\n",
    "plt.title('Confusion Matrix')\n",
    "\n",
    "#---Show the plot\n",
    "plt.show()\n"
   ]
  },
  {
   "cell_type": "markdown",
   "id": "8e0c5212-f9ae-4032-bba7-0f9f573d1121",
   "metadata": {
    "jp-MarkdownHeadingCollapsed": true,
    "tags": []
   },
   "source": [
    "#### Plot predictions probabilities"
   ]
  },
  {
   "cell_type": "code",
   "execution_count": null,
   "id": "956ed7e5-c868-4af2-b3a4-12e23e0fc7cf",
   "metadata": {},
   "outputs": [],
   "source": [
    "#Plot predictions\n",
    "plot_predictions(predictions.tolist()[:12])"
   ]
  },
  {
   "cell_type": "markdown",
   "id": "fc877b1e-1cca-4b5e-830f-60a4d0c37c37",
   "metadata": {
    "jp-MarkdownHeadingCollapsed": true,
    "tags": []
   },
   "source": [
    "### Model predictions for unknown data"
   ]
  },
  {
   "cell_type": "markdown",
   "id": "dfc215ae-b490-4d4f-9d6e-024484875006",
   "metadata": {
    "tags": []
   },
   "source": [
    "#### Prediction barplot for song"
   ]
  },
  {
   "cell_type": "code",
   "execution_count": null,
   "id": "7e523121-13ca-4d60-9d08-17a1ffc40b91",
   "metadata": {},
   "outputs": [],
   "source": [
    "#Must be a song\n",
    "data = pd.read_csv('GenresDatasetGenerator/Songs/m_PorscheTopless.csv')\n",
    "\n",
    "#Preprocess data\n",
    "\n",
    "#For raw data\n",
    "#test_samples, test_samples_df = data_prep(data)\n",
    "\n",
    "#For modified data\n",
    "test_samples, test_samples_df = data_prep_m(data)\n",
    "\n",
    "#Predict\n",
    "predictions = model.predict(test_samples)\n",
    "\n",
    "target_dict = {'Alternative': 0, \n",
    "               'Classical': 1, \n",
    "               'Electronic': 2, \n",
    "               'HipHop': 3, \n",
    "               'Pop': 4, \n",
    "               'Rock': 5}\n",
    "\n",
    "labels = list(target_dict.keys())\n",
    "indices = list(target_dict.values())\n",
    "\n",
    "# Create a bar plot\n",
    "plt.bar(indices, predictions.flatten())\n",
    "\n",
    "# Set the tick labels and title\n",
    "plt.xticks(indices, labels)\n",
    "plt.xlabel('Genres')\n",
    "plt.ylabel('Prediction Probability')\n",
    "plt.title('Predicted Probabilities for Genres')\n",
    "\n",
    "# Display the plot\n",
    "plt.show()"
   ]
  },
  {
   "cell_type": "markdown",
   "id": "53146624-2c4b-433c-8d9f-83ad946d69a2",
   "metadata": {
    "jp-MarkdownHeadingCollapsed": true,
    "tags": []
   },
   "source": [
    "#### Prediction barplots for playlist"
   ]
  },
  {
   "cell_type": "code",
   "execution_count": null,
   "id": "8f630db2-e763-4e2a-baa4-d8f6cf43262f",
   "metadata": {},
   "outputs": [],
   "source": [
    "#Must be a playlist\n",
    "data = pd.read_csv('GenresDatasetGenerator/Albums/m_ToryLanez.csv')\n",
    "\n",
    "#Preprocess data\n",
    "\n",
    "#For raw data\n",
    "#test_samples, test_samples_df = data_prep(data)\n",
    "\n",
    "#For modified data\n",
    "test_samples, test_samples_df = data_prep_m(data)\n",
    "\n",
    "#Predict\n",
    "predictions = model.predict(test_samples)\n",
    "\n",
    "target_dict = {'Alternative': 0, \n",
    "               'Classical': 1, \n",
    "               'Electronic': 2, \n",
    "               'HipHop': 3, \n",
    "               'Pop': 4, \n",
    "               'Rock': 5}\n",
    "\n",
    "#Plot predictions\n",
    "plot_predictions(predictions)"
   ]
  },
  {
   "cell_type": "markdown",
   "id": "0a03d4e1-18b8-44f9-b441-8b96d9bd737b",
   "metadata": {
    "tags": []
   },
   "source": [
    "#### Histogram for genres count"
   ]
  },
  {
   "cell_type": "code",
   "execution_count": null,
   "id": "934093c5-c535-4c16-b126-818136014e7e",
   "metadata": {},
   "outputs": [],
   "source": [
    "predicted_labels = np.argmax(predictions, axis=1)\n",
    "predicted_labels_keys = [key for value in predicted_labels for key, val in target_dict.items() if val == value]\n",
    "sns.histplot(data = predicted_labels_keys, discrete = True)"
   ]
  },
  {
   "cell_type": "markdown",
   "id": "7b4fcb0f-0e45-43d5-9b00-d4d55ee0e118",
   "metadata": {
    "tags": []
   },
   "source": [
    "#### Model prediction uncertainty"
   ]
  },
  {
   "cell_type": "code",
   "execution_count": null,
   "id": "998fde3d-f22b-472c-a81a-0edc2dc27f08",
   "metadata": {},
   "outputs": [],
   "source": [
    "#Predictions probabilities dataframe\n",
    "prediction_df = pd.DataFrame(data = predictions, columns = target_dict.keys())\n",
    "#prediction_df\n",
    "\n",
    "#Uncertainty as an difference between two highest probabilities\n",
    "uncertainty = []\n",
    "for i in range(prediction_df.shape[0]):\n",
    "    pred_uncertainty = prediction_df.iloc[i].sort_values(ascending = False)[0] - prediction_df.iloc[i].sort_values(ascending = False)[1]\n",
    "    uncertainty.append(pred_uncertainty)\n",
    "\n",
    "uncertainty_df = pd.DataFrame(data = uncertainty, columns = ['Uncertainty Value'])\n",
    "#uncertainty_df = uncertainty_df.sort_values(by = 'Uncertainty Value', ascending = False) # No need for sorting, seaborn handle this\n",
    "#uncertainty_df\n",
    "\n",
    "sns.kdeplot(data = uncertainty_df, x = 'Uncertainty Value', bw_adjust=0.2)"
   ]
  },
  {
   "cell_type": "code",
   "execution_count": null,
   "id": "ea5a9659-1ab5-4ab2-b15e-1996193678aa",
   "metadata": {},
   "outputs": [],
   "source": []
  }
 ],
 "metadata": {
  "kernelspec": {
   "display_name": "Python 3 (ipykernel)",
   "language": "python",
   "name": "python3"
  },
  "language_info": {
   "codemirror_mode": {
    "name": "ipython",
    "version": 3
   },
   "file_extension": ".py",
   "mimetype": "text/x-python",
   "name": "python",
   "nbconvert_exporter": "python",
   "pygments_lexer": "ipython3",
   "version": "3.11.0"
  }
 },
 "nbformat": 4,
 "nbformat_minor": 5
}
