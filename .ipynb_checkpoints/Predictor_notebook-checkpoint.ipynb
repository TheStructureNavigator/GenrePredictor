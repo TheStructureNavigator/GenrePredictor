{
 "cells": [
  {
   "attachments": {},
   "cell_type": "markdown",
   "id": "3cd654c1",
   "metadata": {},
   "source": [
    "# PredictorNotebook"
   ]
  },
  {
   "attachments": {},
   "cell_type": "markdown",
   "id": "9ebcf986",
   "metadata": {},
   "source": [
    "### Dependencies"
   ]
  },
  {
   "cell_type": "code",
   "execution_count": 2,
   "id": "f4f309b8",
   "metadata": {},
   "outputs": [],
   "source": [
    "import pandas as pd\n",
    "from modules.one_hot import one_hot\n",
    "from sklearn.preprocessing import MinMaxScaler\n",
    "from sklearn.model_selection import train_test_split\n",
    "from sklearn.metrics import accuracy_score, confusion_matrix, ConfusionMatrixDisplay\n",
    "from sklearn.model_selection import GridSearchCV\n",
    "from sklearn import tree\n",
    "from sklearn import ensemble\n",
    "from sklearn import linear_model\n",
    "from sklearn import neighbors\n",
    "\n",
    "pd.set_option('display.max_columns', 100)"
   ]
  },
  {
   "attachments": {},
   "cell_type": "markdown",
   "id": "a6249b70",
   "metadata": {},
   "source": [
    "### Main"
   ]
  },
  {
   "cell_type": "code",
   "execution_count": 3,
   "id": "a5afe6b6",
   "metadata": {},
   "outputs": [],
   "source": [
    "#Dataframe reader\n",
    "hh = pd.read_csv(\"HipHop.csv\",low_memory=False)\n",
    "#One hot encoder\n",
    "enc_key = one_hot(hh, 'key', 'key').reset_index(drop = True)\n",
    "enc_mode = one_hot(hh, 'mode', 'mode').reset_index(drop = True)\n",
    "#Normalization - float values\n",
    "floats = hh[['danceability', 'energy', 'loudness', 'speechiness', 'acousticness', 'instrumentalness', 'liveness', 'valence', 'tempo', 'duration_ms']].reset_index(drop = True)\n",
    "scaler = MinMaxScaler()\n",
    "floats_scaled = pd.DataFrame(scaler.fit_transform(floats), columns = floats.columns)\n",
    "#New dataframe concatenator\n",
    "hh_dataframe = pd.concat([floats_scaled, enc_key, enc_mode, hh['genres']], axis = 1)"
   ]
  },
  {
   "cell_type": "code",
   "execution_count": null,
   "id": "a283b69a",
   "metadata": {},
   "outputs": [],
   "source": [
    "hh_dataframe"
   ]
  },
  {
   "cell_type": "code",
   "execution_count": 4,
   "id": "5c738d48",
   "metadata": {},
   "outputs": [],
   "source": [
    "#Dataframe reader\n",
    "Pop = pd.read_csv(\"Pop.csv\",low_memory=False)\n",
    "#One hot encoder\n",
    "enc_key = one_hot(Pop, 'key', 'key').reset_index(drop = True)\n",
    "enc_mode = one_hot(Pop, 'mode', 'mode').reset_index(drop = True)\n",
    "#Normalization - float values\n",
    "floats = Pop[['danceability', 'energy', 'loudness', 'speechiness', 'acousticness', 'instrumentalness', 'liveness', 'valence', 'tempo', 'duration_ms']].reset_index(drop = True)\n",
    "scaler = MinMaxScaler()\n",
    "floats_scaled = pd.DataFrame(scaler.fit_transform(floats), columns = floats.columns)\n",
    "#New dataframe concatenator\n",
    "pop_dataframe = pd.concat([floats_scaled, enc_key, enc_mode, Pop['genres']], axis = 1)"
   ]
  },
  {
   "cell_type": "code",
   "execution_count": null,
   "id": "d013878f",
   "metadata": {},
   "outputs": [],
   "source": [
    "pop_dataframe"
   ]
  },
  {
   "cell_type": "code",
   "execution_count": 5,
   "id": "7b32249d",
   "metadata": {},
   "outputs": [],
   "source": [
    "#Dataframe reader\n",
    "Rock = pd.read_csv(\"Rock.csv\",low_memory=False)\n",
    "#One hot encoder\n",
    "enc_key = one_hot(Pop, 'key', 'key').reset_index(drop = True)\n",
    "enc_mode = one_hot(Pop, 'mode', 'mode').reset_index(drop = True)\n",
    "#Normalization - float values\n",
    "floats = Rock[['danceability', 'energy', 'loudness', 'speechiness', 'acousticness', 'instrumentalness', 'liveness', 'valence', 'tempo', 'duration_ms']].reset_index(drop = True)\n",
    "scaler = MinMaxScaler()\n",
    "floats_scaled = pd.DataFrame(scaler.fit_transform(floats), columns = floats.columns)\n",
    "#New dataframe concatenator\n",
    "rock_dataframe = pd.concat([floats_scaled, enc_key, enc_mode, Rock['genres']], axis = 1)\n",
    "rock_dataframe = rock_dataframe.dropna()"
   ]
  },
  {
   "cell_type": "code",
   "execution_count": null,
   "id": "400b86da",
   "metadata": {},
   "outputs": [],
   "source": [
    "rock_dataframe"
   ]
  },
  {
   "cell_type": "code",
   "execution_count": 6,
   "id": "fb7aa263",
   "metadata": {},
   "outputs": [],
   "source": [
    "n_dataframe = pd.concat([hh_dataframe, pop_dataframe, rock_dataframe])"
   ]
  },
  {
   "cell_type": "code",
   "execution_count": 7,
   "id": "3044f013",
   "metadata": {},
   "outputs": [],
   "source": [
    "n_dataframe = n_dataframe.drop_duplicates()"
   ]
  },
  {
   "cell_type": "code",
   "execution_count": 8,
   "id": "0ccb4468",
   "metadata": {},
   "outputs": [
    {
     "name": "stdout",
     "output_type": "stream",
     "text": [
      "['HipHop' 'Pop' 'Rock']\n"
     ]
    },
    {
     "data": {
      "text/plain": [
       "Pop       360\n",
       "Rock      360\n",
       "HipHop    292\n",
       "Name: genres, dtype: int64"
      ]
     },
     "execution_count": 8,
     "metadata": {},
     "output_type": "execute_result"
    }
   ],
   "source": [
    "#Samples and target\n",
    "samples = n_dataframe.drop(columns = ['genres'])\n",
    "target = n_dataframe['genres']\n",
    "#Split dataset\n",
    "X_train, X_test, y_train, y_test = train_test_split(samples, target, test_size = 0.2)\n",
    "\n",
    "#Show new\n",
    "#n_dataframe\n",
    "#Show genres\n",
    "print(n_dataframe['genres'].unique())\n",
    "#Split sets\n",
    "#print(X_train[:5])\n",
    "#print(y_train[:5])\n",
    "\n",
    "n_dataframe['genres'].value_counts()"
   ]
  },
  {
   "cell_type": "code",
   "execution_count": null,
   "id": "ba7d19a7",
   "metadata": {},
   "outputs": [],
   "source": [
    "n_dataframe"
   ]
  },
  {
   "attachments": {},
   "cell_type": "markdown",
   "id": "31b602c6",
   "metadata": {},
   "source": [
    "# ML Algorithms\n"
   ]
  },
  {
   "attachments": {},
   "cell_type": "markdown",
   "id": "fe7e0527",
   "metadata": {},
   "source": [
    "## (1) Decision Trees"
   ]
  },
  {
   "attachments": {},
   "cell_type": "markdown",
   "id": "13edc7e0",
   "metadata": {},
   "source": [
    "### GridSearchCV"
   ]
  },
  {
   "cell_type": "code",
   "execution_count": null,
   "id": "6fb65f75",
   "metadata": {},
   "outputs": [],
   "source": [
    "def DecisionTreeGridSearch(X_train, y_train):\n",
    "    #Parameters for GridSearchCV\n",
    "    parameters = {'criterion': ['gini', 'entropy'],\n",
    "                  'max_depth': [None, 2, 4, 6, 8],\n",
    "                  'max_features': [None, 'sqrt', 'log2', 0.2, 0.4, 0.6, 0.8],\n",
    "                  'splitter': ['best', 'random']}\n",
    "    #GridSearchCV\n",
    "    clf = GridSearchCV(estimator = tree.DecisionTreeClassifier(),\n",
    "                      param_grid = parameters,\n",
    "                      cv = 5,\n",
    "                      n_jobs = 5,\n",
    "                      verbose = 1)\n",
    "    clf = clf.fit(X_train, y_train)\n",
    "    print(clf.best_params_)\n",
    "\n",
    "DecisionTreeGridSearch(X_train, y_train)"
   ]
  },
  {
   "attachments": {},
   "cell_type": "markdown",
   "id": "6e0d4c84",
   "metadata": {},
   "source": [
    "### Decision Tree Classifier"
   ]
  },
  {
   "cell_type": "code",
   "execution_count": 13,
   "id": "05200d8b",
   "metadata": {},
   "outputs": [],
   "source": [
    "def DecisionTreeClassifier(X_train, y_train, X_test, y_test):\n",
    "    #DecisionTreeClassifier\n",
    "    clf = tree.DecisionTreeClassifier(criterion = 'entropy', \n",
    "                                      max_depth = 4, \n",
    "                                      max_features = 0.6, \n",
    "                                      splitter = 'best')\n",
    "    clf = clf.fit(X_train, y_train)\n",
    "    #Prediction\n",
    "    predictions = clf.predict(X_test)\n",
    "    #Prediction accuracy\n",
    "    print(accuracy_score(y_test, predictions))\n",
    "    #Confusion matrix\n",
    "    confusion_matrix_result = confusion_matrix(y_test, predictions)\n",
    "    cm_vis = ConfusionMatrixDisplay(confusion_matrix = confusion_matrix_result, \n",
    "                                    display_labels = clf.classes_)\n",
    "    cm_vis.plot()"
   ]
  },
  {
   "cell_type": "code",
   "execution_count": 14,
   "id": "7d388fc8",
   "metadata": {},
   "outputs": [
    {
     "name": "stdout",
     "output_type": "stream",
     "text": [
      "0.7931034482758621\n"
     ]
    },
    {
     "data": {
      "image/png": "[encoded data removed]",
      "text/plain": [
       "<Figure size 640x480 with 2 Axes>"
      ]
     },
     "metadata": {},
     "output_type": "display_data"
    }
   ],
   "source": [
    "DecisionTreeClassifier(X_train, y_train, X_test, y_test)"
   ]
  },
  {
   "attachments": {},
   "cell_type": "markdown",
   "id": "ed331573",
   "metadata": {},
   "source": [
    "## (2) Random Forests"
   ]
  },
  {
   "attachments": {},
   "cell_type": "markdown",
   "id": "d2f9ae02",
   "metadata": {},
   "source": [
    "### GridSearchCV"
   ]
  },
  {
   "cell_type": "code",
   "execution_count": 9,
   "id": "2b8f67d7",
   "metadata": {},
   "outputs": [
    {
     "name": "stdout",
     "output_type": "stream",
     "text": [
      "Fitting 5 folds for each of 35 candidates, totalling 175 fits\n",
      "{'max_depth': 8, 'max_features': 'log2'}\n"
     ]
    }
   ],
   "source": [
    "def RandomForestGridSearch(X_train, y_train):\n",
    "    #Parameters for GridSearchCV\n",
    "    parameters = {'max_depth': [None, 2, 4, 6, 8],\n",
    "                  'max_features': [None, 'sqrt', 'log2', 0.2, 0.4, 0.6, 0.8]\n",
    "                 }\n",
    "    #GridSearchCV\n",
    "    clf = GridSearchCV(estimator = ensemble.RandomForestClassifier(),\n",
    "                       param_grid = parameters,\n",
    "                       cv = 5,\n",
    "                       n_jobs = 5,\n",
    "                       verbose = 1)\n",
    "    clf = clf.fit(X_train, y_train)\n",
    "    print(clf.best_params_)\n",
    "\n",
    "RandomForestGridSearch(X_train, y_train)"
   ]
  },
  {
   "attachments": {},
   "cell_type": "markdown",
   "id": "0bc519eb",
   "metadata": {},
   "source": [
    "### Random Forest Classifier"
   ]
  },
  {
   "cell_type": "code",
   "execution_count": 10,
   "id": "f4cddbaa",
   "metadata": {},
   "outputs": [],
   "source": [
    "def RandomForestClassifier(X_train, y_train, X_test, y_test):\n",
    "    #RandomForestClassifier\n",
    "    clf = ensemble.RandomForestClassifier()\n",
    "    clf = clf.fit(X_train, y_train)\n",
    "    #Prediction\n",
    "    predictions = clf.predict(X_test)\n",
    "    #Prediction accuracy\n",
    "    print(accuracy_score(y_test, predictions))\n",
    "    #Confusion matrix\n",
    "    confusion_matrix_result = confusion_matrix(y_test, predictions)\n",
    "    cm_vis = ConfusionMatrixDisplay(confusion_matrix = confusion_matrix_result, \n",
    "                                    display_labels = clf.classes_)\n",
    "    cm_vis.plot()"
   ]
  },
  {
   "cell_type": "code",
   "execution_count": 11,
   "id": "70746dd7",
   "metadata": {},
   "outputs": [
    {
     "name": "stdout",
     "output_type": "stream",
     "text": [
      "0.7832512315270936\n"
     ]
    },
    {
     "data": {
      "image/png": "[encoded data removed]",
      "text/plain": [
       "<Figure size 640x480 with 2 Axes>"
      ]
     },
     "metadata": {},
     "output_type": "display_data"
    }
   ],
   "source": [
    "RandomForestClassifier(X_train, y_train, X_test, y_test)"
   ]
  },
  {
   "attachments": {},
   "cell_type": "markdown",
   "id": "2a8d88f5",
   "metadata": {},
   "source": [
    "## (3) Stochastic Gradient Descent"
   ]
  },
  {
   "attachments": {},
   "cell_type": "markdown",
   "id": "7c6aed40",
   "metadata": {},
   "source": [
    "### GridSearchCV"
   ]
  },
  {
   "cell_type": "code",
   "execution_count": null,
   "id": "13c1df5c",
   "metadata": {},
   "outputs": [],
   "source": [
    "def SGDGridSearch(X_train, y_train):\n",
    "    #Parameters for GridSearchCV\n",
    "    parameters = {'loss': ['hinge', 'log_loss'],\n",
    "                  'penalty': ['l2', 'l1', 'elasticnet', None],\n",
    "                  'max_iter': [100, 1000, 5000]}\n",
    "    #GridSearchCV\n",
    "    clf = GridSearchCV(estimator = linear_model.SGDClassifier(),\n",
    "                       param_grid = parameters,\n",
    "                       cv = 5,\n",
    "                       n_jobs = 5,\n",
    "                       verbose = 1)\n",
    "    clf = clf.fit(X_train, y_train)\n",
    "    print(clf.best_params_)\n",
    "\n",
    "SGDGridSearch(X_train, y_train)"
   ]
  },
  {
   "attachments": {},
   "cell_type": "markdown",
   "id": "047d1dd9",
   "metadata": {},
   "source": [
    "### Stochastic Gradient Descent Classifier"
   ]
  },
  {
   "cell_type": "code",
   "execution_count": 15,
   "id": "740bcaa9",
   "metadata": {},
   "outputs": [],
   "source": [
    "def SGDClassifier(X_train, y_train, X_test, y_test):\n",
    "    #SGDClassifier\n",
    "    clf = linear_model.SGDClassifier(loss = 'log_loss',\n",
    "                                     max_iter = 1000,\n",
    "                                     penalty = None)\n",
    "    clf = clf.fit(X_train, y_train)\n",
    "    #Prediction\n",
    "    predictions = clf.predict(X_test)\n",
    "    #Prediction accuracy\n",
    "    print(accuracy_score(y_test, predictions))\n",
    "    #Confusion matrix\n",
    "    confusion_matrix_result = confusion_matrix(y_test, predictions)\n",
    "    cm_vis = ConfusionMatrixDisplay(confusion_matrix = confusion_matrix_result, \n",
    "                                    display_labels = clf.classes_)\n",
    "    cm_vis.plot()"
   ]
  },
  {
   "cell_type": "code",
   "execution_count": 16,
   "id": "7f1c21a9",
   "metadata": {},
   "outputs": [
    {
     "name": "stdout",
     "output_type": "stream",
     "text": [
      "0.7783251231527094\n"
     ]
    },
    {
     "data": {
      "image/png": "[encoded data removed]",
      "text/plain": [
       "<Figure size 640x480 with 2 Axes>"
      ]
     },
     "metadata": {},
     "output_type": "display_data"
    }
   ],
   "source": [
    "SGDClassifier(X_train, y_train, X_test, y_test)"
   ]
  },
  {
   "attachments": {},
   "cell_type": "markdown",
   "id": "703d4ae3",
   "metadata": {},
   "source": [
    "## (4) K-Nearest Neighbors"
   ]
  },
  {
   "attachments": {},
   "cell_type": "markdown",
   "id": "35e2d267",
   "metadata": {},
   "source": [
    "### GridSearchCV"
   ]
  },
  {
   "cell_type": "code",
   "execution_count": null,
   "id": "87d9e676",
   "metadata": {},
   "outputs": [],
   "source": [
    "def KNNGridSearch(X_train, y_train):\n",
    "    #Parameters for GridSearchCV\n",
    "    parameters = {'n_neighbors': [2, 5, 10, 20],\n",
    "                  'weights': ['uniform', 'distance', None],\n",
    "                  'algorithm': ['auto', 'ball_tree', 'kd_tree', 'brute']}\n",
    "    #GridSearchCV\n",
    "    clf = GridSearchCV(estimator = neighbors.KNeighborsClassifier(),\n",
    "                       param_grid = parameters,\n",
    "                       cv = 5,\n",
    "                       n_jobs = 5,\n",
    "                       verbose = 1)\n",
    "    clf = clf.fit(X_train, y_train)\n",
    "    print(clf.best_params_)\n",
    "\n",
    "KNNGridSearch(X_train, y_train)"
   ]
  },
  {
   "attachments": {},
   "cell_type": "markdown",
   "id": "c5cf0612",
   "metadata": {},
   "source": [
    "### K-Nearest Neighbors Classifier"
   ]
  },
  {
   "cell_type": "code",
   "execution_count": 17,
   "id": "2369121d",
   "metadata": {},
   "outputs": [],
   "source": [
    "def KNNClassifier(X_train, y_train, X_test, y_test):\n",
    "    #SGDClassifier\n",
    "    clf = neighbors.KNeighborsClassifier(n_neighbors = 2,\n",
    "                                         algorithm = 'auto',\n",
    "                                         weights = 'distance')\n",
    "    clf = clf.fit(X_train, y_train)\n",
    "    #Prediction\n",
    "    predictions = clf.predict(X_test)\n",
    "    #Prediction accuracy\n",
    "    print(accuracy_score(y_test, predictions))\n",
    "    #Confusion matrix\n",
    "    confusion_matrix_result = confusion_matrix(y_test, predictions)\n",
    "    cm_vis = ConfusionMatrixDisplay(confusion_matrix = confusion_matrix_result, \n",
    "                                    display_labels = clf.classes_)\n",
    "    cm_vis.plot()"
   ]
  },
  {
   "cell_type": "code",
   "execution_count": 18,
   "id": "39c2bea3",
   "metadata": {},
   "outputs": [
    {
     "name": "stdout",
     "output_type": "stream",
     "text": [
      "0.6650246305418719\n"
     ]
    },
    {
     "data": {
      "image/png": "[encoded data removed]",
      "text/plain": [
       "<Figure size 640x480 with 2 Axes>"
      ]
     },
     "metadata": {},
     "output_type": "display_data"
    }
   ],
   "source": [
    "KNNClassifier(X_train, y_train, X_test, y_test)"
   ]
  },
  {
   "cell_type": "code",
   "execution_count": null,
   "id": "3a20c364",
   "metadata": {},
   "outputs": [],
   "source": []
  }
 ],
 "metadata": {
  "kernelspec": {
   "display_name": "Python 3 (ipykernel)",
   "language": "python",
   "name": "python3"
  },
  "language_info": {
   "codemirror_mode": {
    "name": "ipython",
    "version": 3
   },
   "file_extension": ".py",
   "mimetype": "text/x-python",
   "name": "python",
   "nbconvert_exporter": "python",
   "pygments_lexer": "ipython3",
   "version": "3.11.0"
  }
 },
 "nbformat": 4,
 "nbformat_minor": 5
}
