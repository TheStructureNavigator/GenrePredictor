{
 "cells": [
  {
   "cell_type": "markdown",
   "id": "3cd654c1",
   "metadata": {},
   "source": [
    "# MLPredictorNotebook"
   ]
  },
  {
   "cell_type": "markdown",
   "id": "9ebcf986",
   "metadata": {
    "jp-MarkdownHeadingCollapsed": true,
    "tags": []
   },
   "source": [
    "### Dependencies"
   ]
  },
  {
   "cell_type": "code",
   "execution_count": null,
   "id": "f4f309b8",
   "metadata": {},
   "outputs": [],
   "source": [
    "import pandas as pd\n",
    "from modules.one_hot import one_hot\n",
    "from sklearn.preprocessing import MinMaxScaler, LabelEncoder\n",
    "from sklearn.model_selection import train_test_split\n",
    "from sklearn.metrics import accuracy_score, confusion_matrix, ConfusionMatrixDisplay\n",
    "from sklearn.model_selection import GridSearchCV\n",
    "from sklearn import tree\n",
    "from sklearn import ensemble\n",
    "from sklearn import linear_model\n",
    "from sklearn import neighbors\n",
    "\n",
    "pd.set_option('display.max_columns', 100)"
   ]
  },
  {
   "cell_type": "markdown",
   "id": "a6249b70",
   "metadata": {
    "jp-MarkdownHeadingCollapsed": true,
    "tags": []
   },
   "source": [
    "### Load Raw Genres Data"
   ]
  },
  {
   "cell_type": "code",
   "execution_count": null,
   "id": "0fb2059d-b95b-4bd5-b003-2a58f086a03d",
   "metadata": {},
   "outputs": [],
   "source": [
    "# Genres Dataframes\n",
    "hiphop = pd.read_csv('GenresDatasetGenerator/Genres/HipHopGenre_AllMods.csv')\n",
    "rock = pd.read_csv('GenresDatasetGenerator/Genres/RockGenre_AllMods.csv')\n",
    "classical = pd.read_csv('GenresDatasetGenerator/Genres/ClassicalGenre_AllMods.csv')\n",
    "electronic = pd.read_csv('GenresDatasetGenerator/Genres/ElectronicGenre_AllMods.csv')\n",
    "alternative = pd.read_csv('GenresDatasetGenerator/Genres/AlternativeGenre_AllMods.csv')\n",
    "pop = pd.read_csv('GenresDatasetGenerator/Genres/PopGenre_AllMods.csv')\n",
    "\n",
    "# Combine genre dataframes into a list\n",
    "genres = [hiphop, rock, classical, electronic, alternative, pop]\n",
    "\n",
    "def prepare_data(genres):\n",
    "    \"\"\"\n",
    "    prepare_data() generates necessary data as an input to a model.\n",
    "    \n",
    "    Args:\n",
    "    - genres: a list of dataframes with features for every genre\n",
    "    \n",
    "    Returns:\n",
    "    - samples: an array with input samples to a model\n",
    "    - target: an array with output target to a model\n",
    "    - nn_dataframe: input/output dataframe\n",
    "    - target_dict: Encoded/Decoded target dictionary\n",
    "    \"\"\"\n",
    "    \n",
    "    # Feature columns used as input to a model if CF\n",
    "    ready_cols = ['danceability', 'energy', 'speechiness',\n",
    "                  'acousticness', 'instrumentalness', 'liveness',\n",
    "                  'valence', 'danceability_energy_ratio', 'danceability_valence_ratio']\n",
    "    \n",
    "    # Feature columns used as input to a model\n",
    "    #ready_cols = ['danceability', 'energy', 'speechiness',\n",
    "    #              'acousticness', 'instrumentalness', 'liveness','valence']\n",
    "    nready_cols = ['loudness', 'tempo', 'duration_ms',\n",
    "                   'key', 'mode', 'time_signature']\n",
    "    \n",
    "    # Concatenate all dataframes and reset indexes\n",
    "    \n",
    "    #If Track URI in columns\n",
    "    df = pd.concat(genres, ignore_index=True).set_index('Track URI')\n",
    "    ready_cols_df = df[ready_cols].reset_index()\n",
    "    nready_cols_df = df[nready_cols]\n",
    "    \n",
    "    # Normalization objects\n",
    "    scaler = MinMaxScaler()\n",
    "    encoder = LabelEncoder()\n",
    "    \n",
    "    # Normalize features\n",
    "    nready_cols_scaled = scaler.fit_transform(nready_cols_df.values)\n",
    "    nready_cols_scaled_df = pd.DataFrame(nready_cols_scaled, columns=nready_cols)\n",
    "    \n",
    "    # Input to a model\n",
    "    \n",
    "    #If Track URI in columns\n",
    "    samples_df = pd.concat([ready_cols_df.drop(columns='Track URI'), nready_cols_scaled_df], axis=1)\n",
    "    samples = samples_df.values\n",
    "    \n",
    "    # Target output from a model\n",
    "    target = encoder.fit_transform(df['genres'].values)\n",
    "    target_df = pd.DataFrame(target, columns=['genres'])\n",
    "    \n",
    "    # Target dictionary\n",
    "    encoded_target = encoder.inverse_transform(target)\n",
    "    target_dict = dict(zip(encoded_target, target))\n",
    "    target_dict = dict(sorted(target_dict.items()))\n",
    "    \n",
    "    # Dataframe representation\n",
    "    nn_dataframe = pd.concat([samples_df, target_df], axis=1)\n",
    "    \n",
    "    return samples, target, nn_dataframe, target_dict\n",
    "\n",
    "# Call the function and assign the returned values\n",
    "samples, target, nn_dataframe, target_dict = prepare_data(genres)"
   ]
  },
  {
   "cell_type": "markdown",
   "id": "31b602c6",
   "metadata": {
    "jp-MarkdownHeadingCollapsed": true,
    "tags": []
   },
   "source": [
    "# ML Algorithms\n"
   ]
  },
  {
   "cell_type": "code",
   "execution_count": null,
   "id": "ee093a13",
   "metadata": {},
   "outputs": [],
   "source": [
    "#Split dataset\n",
    "X_train, X_test, y_train, y_test = train_test_split(samples, target, test_size = 0.2)"
   ]
  },
  {
   "cell_type": "markdown",
   "id": "fe7e0527",
   "metadata": {
    "jp-MarkdownHeadingCollapsed": true,
    "tags": []
   },
   "source": [
    "## (1) Decision Trees"
   ]
  },
  {
   "cell_type": "markdown",
   "id": "13edc7e0",
   "metadata": {
    "jp-MarkdownHeadingCollapsed": true,
    "tags": []
   },
   "source": [
    "### GridSearchCV"
   ]
  },
  {
   "cell_type": "code",
   "execution_count": null,
   "id": "6fb65f75",
   "metadata": {},
   "outputs": [],
   "source": [
    "def DecisionTreeGridSearch(X_train, y_train):\n",
    "    #Parameters for GridSearchCV\n",
    "    parameters = {'criterion': ['gini', 'entropy'],\n",
    "                  'max_depth': [None, 2, 4, 6, 8],\n",
    "                  'max_features': [None, 'sqrt', 'log2', 0.2, 0.4, 0.6, 0.8],\n",
    "                  'splitter': ['best', 'random']}\n",
    "    #GridSearchCV\n",
    "    clf = GridSearchCV(estimator = tree.DecisionTreeClassifier(),\n",
    "                      param_grid = parameters,\n",
    "                      cv = 5,\n",
    "                      n_jobs = 5,\n",
    "                      verbose = 1)\n",
    "    clf = clf.fit(X_train, y_train)\n",
    "    print(clf.best_params_)\n",
    "\n",
    "DecisionTreeGridSearch(X_train, y_train)"
   ]
  },
  {
   "cell_type": "markdown",
   "id": "6e0d4c84",
   "metadata": {
    "jp-MarkdownHeadingCollapsed": true,
    "tags": []
   },
   "source": [
    "### Decision Tree Classifier"
   ]
  },
  {
   "cell_type": "code",
   "execution_count": null,
   "id": "05200d8b",
   "metadata": {},
   "outputs": [],
   "source": [
    "def DecisionTreeClassifier(X_train, y_train, X_test, y_test):\n",
    "    #DecisionTreeClassifier\n",
    "    clf = tree.DecisionTreeClassifier(criterion = 'gini', \n",
    "                                      max_depth = 8, \n",
    "                                      max_features = 0.6, \n",
    "                                      splitter = 'best')\n",
    "    clf = clf.fit(X_train, y_train)\n",
    "    #Prediction\n",
    "    predictions = clf.predict(X_test)\n",
    "    #Prediction accuracy\n",
    "    print(accuracy_score(y_test, predictions))\n",
    "    #Confusion matrix\n",
    "    confusion_matrix_result = confusion_matrix(y_test, predictions)\n",
    "    cm_vis = ConfusionMatrixDisplay(confusion_matrix = confusion_matrix_result, \n",
    "                                    display_labels = clf.classes_)\n",
    "    cm_vis.plot()"
   ]
  },
  {
   "cell_type": "code",
   "execution_count": null,
   "id": "7d388fc8",
   "metadata": {},
   "outputs": [],
   "source": [
    "DecisionTreeClassifier(X_train, y_train, X_test, y_test)"
   ]
  },
  {
   "cell_type": "markdown",
   "id": "ed331573",
   "metadata": {
    "jp-MarkdownHeadingCollapsed": true,
    "tags": []
   },
   "source": [
    "## (2) Random Forests"
   ]
  },
  {
   "cell_type": "markdown",
   "id": "d2f9ae02",
   "metadata": {
    "jp-MarkdownHeadingCollapsed": true,
    "tags": []
   },
   "source": [
    "### GridSearchCV"
   ]
  },
  {
   "cell_type": "code",
   "execution_count": null,
   "id": "2b8f67d7",
   "metadata": {},
   "outputs": [],
   "source": [
    "def RandomForestGridSearch(X_train, y_train):\n",
    "    #Parameters for GridSearchCV\n",
    "    parameters = {'max_depth': [None, 2, 4, 6, 8],\n",
    "                  'max_features': [None, 'sqrt', 'log2', 0.2, 0.4, 0.6, 0.8]\n",
    "                 }\n",
    "    #GridSearchCV\n",
    "    clf = GridSearchCV(estimator = ensemble.RandomForestClassifier(),\n",
    "                       param_grid = parameters,\n",
    "                       cv = 5,\n",
    "                       n_jobs = 5,\n",
    "                       verbose = 1)\n",
    "    clf = clf.fit(X_train, y_train)\n",
    "    print(clf.best_params_)\n",
    "\n",
    "RandomForestGridSearch(X_train, y_train)"
   ]
  },
  {
   "cell_type": "markdown",
   "id": "0bc519eb",
   "metadata": {
    "jp-MarkdownHeadingCollapsed": true,
    "tags": []
   },
   "source": [
    "### Random Forest Classifier"
   ]
  },
  {
   "cell_type": "code",
   "execution_count": null,
   "id": "f4cddbaa",
   "metadata": {},
   "outputs": [],
   "source": [
    "def RandomForestClassifier(X_train, y_train, X_test, y_test):\n",
    "    #RandomForestClassifier\n",
    "    clf = ensemble.RandomForestClassifier(max_depth = 8, \n",
    "                                          max_features = 'sqrt')\n",
    "    clf = clf.fit(X_train, y_train)\n",
    "    #Prediction\n",
    "    predictions = clf.predict(X_test)\n",
    "    #Prediction accuracy\n",
    "    print(accuracy_score(y_test, predictions))\n",
    "    #Confusion matrix\n",
    "    confusion_matrix_result = confusion_matrix(y_test, predictions)\n",
    "    cm_vis = ConfusionMatrixDisplay(confusion_matrix = confusion_matrix_result, \n",
    "                                    display_labels = clf.classes_)\n",
    "    cm_vis.plot()"
   ]
  },
  {
   "cell_type": "code",
   "execution_count": null,
   "id": "70746dd7",
   "metadata": {},
   "outputs": [],
   "source": [
    "RandomForestClassifier(X_train, y_train, X_test, y_test)"
   ]
  },
  {
   "cell_type": "markdown",
   "id": "2a8d88f5",
   "metadata": {
    "jp-MarkdownHeadingCollapsed": true,
    "tags": []
   },
   "source": [
    "## (3) Stochastic Gradient Descent"
   ]
  },
  {
   "cell_type": "markdown",
   "id": "7c6aed40",
   "metadata": {
    "jp-MarkdownHeadingCollapsed": true,
    "tags": []
   },
   "source": [
    "### GridSearchCV"
   ]
  },
  {
   "cell_type": "code",
   "execution_count": null,
   "id": "13c1df5c",
   "metadata": {},
   "outputs": [],
   "source": [
    "def SGDGridSearch(X_train, y_train):\n",
    "    #Parameters for GridSearchCV\n",
    "    parameters = {'loss': ['hinge', 'log_loss'],\n",
    "                  'penalty': ['l2', 'l1', 'elasticnet', None],\n",
    "                  'max_iter': [100, 1000, 5000]}\n",
    "    #GridSearchCV\n",
    "    clf = GridSearchCV(estimator = linear_model.SGDClassifier(),\n",
    "                       param_grid = parameters,\n",
    "                       cv = 5,\n",
    "                       n_jobs = 5,\n",
    "                       verbose = 1)\n",
    "    clf = clf.fit(X_train, y_train)\n",
    "    print(clf.best_params_)\n",
    "\n",
    "SGDGridSearch(X_train, y_train)"
   ]
  },
  {
   "cell_type": "markdown",
   "id": "047d1dd9",
   "metadata": {
    "jp-MarkdownHeadingCollapsed": true,
    "tags": []
   },
   "source": [
    "### Stochastic Gradient Descent Classifier"
   ]
  },
  {
   "cell_type": "code",
   "execution_count": null,
   "id": "740bcaa9",
   "metadata": {},
   "outputs": [],
   "source": [
    "def SGDClassifier(X_train, y_train, X_test, y_test):\n",
    "    #SGDClassifier\n",
    "    clf = linear_model.SGDClassifier(loss = 'log_loss',\n",
    "                                     max_iter = 1000,\n",
    "                                     penalty = 'l1')\n",
    "    clf = clf.fit(X_train, y_train)\n",
    "    #Prediction\n",
    "    predictions = clf.predict(X_test)\n",
    "    #Prediction accuracy\n",
    "    print(accuracy_score(y_test, predictions))\n",
    "    #Confusion matrix\n",
    "    confusion_matrix_result = confusion_matrix(y_test, predictions)\n",
    "    cm_vis = ConfusionMatrixDisplay(confusion_matrix = confusion_matrix_result, \n",
    "                                    display_labels = clf.classes_)\n",
    "    cm_vis.plot()"
   ]
  },
  {
   "cell_type": "code",
   "execution_count": null,
   "id": "7f1c21a9",
   "metadata": {},
   "outputs": [],
   "source": [
    "SGDClassifier(X_train, y_train, X_test, y_test)"
   ]
  },
  {
   "cell_type": "markdown",
   "id": "703d4ae3",
   "metadata": {
    "jp-MarkdownHeadingCollapsed": true,
    "tags": []
   },
   "source": [
    "## (4) K-Nearest Neighbors"
   ]
  },
  {
   "cell_type": "markdown",
   "id": "35e2d267",
   "metadata": {
    "jp-MarkdownHeadingCollapsed": true,
    "tags": []
   },
   "source": [
    "### GridSearchCV"
   ]
  },
  {
   "cell_type": "code",
   "execution_count": null,
   "id": "87d9e676",
   "metadata": {},
   "outputs": [],
   "source": [
    "def KNNGridSearch(X_train, y_train):\n",
    "    #Parameters for GridSearchCV\n",
    "    parameters = {'n_neighbors': [2, 5, 10, 20],\n",
    "                  'weights': ['uniform', 'distance', None],\n",
    "                  'algorithm': ['auto', 'ball_tree', 'kd_tree', 'brute']}\n",
    "    #GridSearchCV\n",
    "    clf = GridSearchCV(estimator = neighbors.KNeighborsClassifier(),\n",
    "                       param_grid = parameters,\n",
    "                       cv = 5,\n",
    "                       n_jobs = 5,\n",
    "                       verbose = 1)\n",
    "    clf = clf.fit(X_train, y_train)\n",
    "    print(clf.best_params_)\n",
    "\n",
    "KNNGridSearch(X_train, y_train)"
   ]
  },
  {
   "cell_type": "markdown",
   "id": "c5cf0612",
   "metadata": {
    "jp-MarkdownHeadingCollapsed": true,
    "tags": []
   },
   "source": [
    "### K-Nearest Neighbors Classifier"
   ]
  },
  {
   "cell_type": "code",
   "execution_count": null,
   "id": "2369121d",
   "metadata": {},
   "outputs": [],
   "source": [
    "def KNNClassifier(X_train, y_train, X_test, y_test):\n",
    "    #SGDClassifier\n",
    "    clf = neighbors.KNeighborsClassifier(n_neighbors = 20,\n",
    "                                         algorithm = 'ball_tree',\n",
    "                                         weights = 'uniform')\n",
    "    clf = clf.fit(X_train, y_train)\n",
    "    #Prediction\n",
    "    predictions = clf.predict(X_test)\n",
    "    #Prediction accuracy\n",
    "    print(accuracy_score(y_test, predictions))\n",
    "    #Confusion matrix\n",
    "    confusion_matrix_result = confusion_matrix(y_test, predictions)\n",
    "    cm_vis = ConfusionMatrixDisplay(confusion_matrix = confusion_matrix_result, \n",
    "                                    display_labels = clf.classes_)\n",
    "    cm_vis.plot()"
   ]
  },
  {
   "cell_type": "code",
   "execution_count": null,
   "id": "39c2bea3",
   "metadata": {},
   "outputs": [],
   "source": [
    "KNNClassifier(X_train, y_train, X_test, y_test)"
   ]
  },
  {
   "cell_type": "markdown",
   "id": "74c0bba8",
   "metadata": {
    "tags": []
   },
   "source": [
    "# Prediction Results"
   ]
  },
  {
   "cell_type": "code",
   "execution_count": 33,
   "id": "694cfeb9-d6e3-4dcb-a8db-cd94718ebd62",
   "metadata": {},
   "outputs": [
    {
     "data": {
      "text/html": [
       "<div>\n",
       "<style scoped>\n",
       "    .dataframe tbody tr th:only-of-type {\n",
       "        vertical-align: middle;\n",
       "    }\n",
       "\n",
       "    .dataframe tbody tr th {\n",
       "        vertical-align: top;\n",
       "    }\n",
       "\n",
       "    .dataframe thead th {\n",
       "        text-align: right;\n",
       "    }\n",
       "</style>\n",
       "<table border=\"1\" class=\"dataframe\">\n",
       "  <thead>\n",
       "    <tr style=\"text-align: right;\">\n",
       "      <th></th>\n",
       "      <th>Raw Data</th>\n",
       "      <th>Raw Data + PMN</th>\n",
       "      <th>Raw Data + CF</th>\n",
       "      <th>Raw Data + Trim</th>\n",
       "      <th>Raw Data + All Mods</th>\n",
       "    </tr>\n",
       "  </thead>\n",
       "  <tbody>\n",
       "    <tr>\n",
       "      <th>Decision Trees</th>\n",
       "      <td>57.286822</td>\n",
       "      <td>77.108434</td>\n",
       "      <td>58.604651</td>\n",
       "      <td>60.310078</td>\n",
       "      <td>73.355263</td>\n",
       "    </tr>\n",
       "    <tr>\n",
       "      <th>Random Forests</th>\n",
       "      <td>64.263566</td>\n",
       "      <td>80.562249</td>\n",
       "      <td>66.201550</td>\n",
       "      <td>65.736434</td>\n",
       "      <td>77.960526</td>\n",
       "    </tr>\n",
       "    <tr>\n",
       "      <th>SGD</th>\n",
       "      <td>61.162791</td>\n",
       "      <td>75.421687</td>\n",
       "      <td>62.093023</td>\n",
       "      <td>59.069767</td>\n",
       "      <td>70.065789</td>\n",
       "    </tr>\n",
       "    <tr>\n",
       "      <th>K-nearest Neighbors</th>\n",
       "      <td>57.364341</td>\n",
       "      <td>74.257028</td>\n",
       "      <td>58.914729</td>\n",
       "      <td>61.007752</td>\n",
       "      <td>70.723684</td>\n",
       "    </tr>\n",
       "  </tbody>\n",
       "</table>\n",
       "</div>"
      ],
      "text/plain": [
       "                      Raw Data  Raw Data + PMN  Raw Data + CF  \\\n",
       "Decision Trees       57.286822       77.108434      58.604651   \n",
       "Random Forests       64.263566       80.562249      66.201550   \n",
       "SGD                  61.162791       75.421687      62.093023   \n",
       "K-nearest Neighbors  57.364341       74.257028      58.914729   \n",
       "\n",
       "                     Raw Data + Trim  Raw Data + All Mods  \n",
       "Decision Trees             60.310078            73.355263  \n",
       "Random Forests             65.736434            77.960526  \n",
       "SGD                        59.069767            70.065789  \n",
       "K-nearest Neighbors        61.007752            70.723684  "
      ]
     },
     "execution_count": 33,
     "metadata": {},
     "output_type": "execute_result"
    }
   ],
   "source": [
    "data = [[0.5728682170542636,0.7710843373493976,0.586046511627907,0.6031007751937985, 0.7335526315789473],[0.6426356589147287,0.8056224899598393,0.662015503875969,0.6573643410852713, 0.7796052631578947],[0.6116279069767442,0.7542168674698795,0.6209302325581395,0.5906976744186047, 0.7006578947368421],[0.5736434108527132,0.742570281124498,0.5891472868217055,0.610077519379845, 0.7072368421052632]]\n",
    "index = ['Decision Trees', 'Random Forests', 'SGD', 'K-nearest Neighbors']\n",
    "columns = ['Raw Data', 'Raw Data + PMN', 'Raw Data + CF', 'Raw Data + Trim', 'Raw Data + All Mods']\n",
    "results = pd.DataFrame(data = data, index = index, columns = columns) * 100\n",
    "results"
   ]
  },
  {
   "cell_type": "code",
   "execution_count": null,
   "id": "fcf8c603-bf8b-43e2-9389-ad63a2dd339a",
   "metadata": {},
   "outputs": [],
   "source": []
  }
 ],
 "metadata": {
  "kernelspec": {
   "display_name": "Python 3 (ipykernel)",
   "language": "python",
   "name": "python3"
  },
  "language_info": {
   "codemirror_mode": {
    "name": "ipython",
    "version": 3
   },
   "file_extension": ".py",
   "mimetype": "text/x-python",
   "name": "python",
   "nbconvert_exporter": "python",
   "pygments_lexer": "ipython3",
   "version": "3.11.0"
  }
 },
 "nbformat": 4,
 "nbformat_minor": 5
}
