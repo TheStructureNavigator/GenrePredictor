{
 "cells": [
  {
   "cell_type": "markdown",
   "id": "3cd654c1",
   "metadata": {},
   "source": [
    "# PredictorNotebook"
   ]
  },
  {
   "cell_type": "markdown",
   "id": "9ebcf986",
   "metadata": {},
   "source": [
    "### Dependencies"
   ]
  },
  {
   "cell_type": "code",
   "execution_count": 5,
   "id": "f4f309b8",
   "metadata": {},
   "outputs": [],
   "source": [
    "import pandas as pd\n",
    "from modules.one_hot import one_hot\n",
    "from sklearn.preprocessing import MinMaxScaler, LabelEncoder\n",
    "from sklearn.model_selection import train_test_split\n",
    "from sklearn.metrics import accuracy_score, confusion_matrix, ConfusionMatrixDisplay\n",
    "from sklearn.model_selection import GridSearchCV\n",
    "from sklearn import tree\n",
    "from sklearn import ensemble\n",
    "from sklearn import linear_model\n",
    "from sklearn import neighbors\n",
    "\n",
    "pd.set_option('display.max_columns', 100)"
   ]
  },
  {
   "cell_type": "markdown",
   "id": "a6249b70",
   "metadata": {},
   "source": [
    "### Main"
   ]
  },
  {
   "cell_type": "code",
   "execution_count": 6,
   "id": "79a0e2ee-cad0-4ff1-b398-89248de824cc",
   "metadata": {},
   "outputs": [],
   "source": [
    "# Genres Dataframes\n",
    "hiphop = pd.read_csv('GenresDatasetGenerator/Genres/HipHopGenre.csv')\n",
    "rock = pd.read_csv('GenresDatasetGenerator/Genres/RockGenre.csv')\n",
    "classical = pd.read_csv('GenresDatasetGenerator/Genres/ClassicalGenre.csv')\n",
    "electronic = pd.read_csv('GenresDatasetGenerator/Genres/ElectronicGenre.csv')\n",
    "alternative = pd.read_csv('GenresDatasetGenerator/Genres/AlternativeGenre.csv')\n",
    "pop = pd.read_csv('GenresDatasetGenerator/Genres/PopGenre.csv')\n",
    "\n",
    "# Combine genre dataframes into a list\n",
    "genres = [hiphop, rock, classical, electronic, alternative, pop]\n",
    "\n",
    "def prepare_data(genres):\n",
    "    \"\"\"\n",
    "    prepare_data() generates necessary data as an input to a model.\n",
    "    \n",
    "    Args:\n",
    "    - genres: a list of dataframes with features for every genre\n",
    "    \n",
    "    Returns:\n",
    "    - samples: an array with input samples to a model\n",
    "    - target: an array with output target to a model\n",
    "    - nn_dataframe: input/output dataframe\n",
    "    - target_dict: Encoded/Decoded target dictionary\n",
    "    \"\"\"\n",
    "    \n",
    "    # Feature columns used as input to a model\n",
    "    ready_cols = ['danceability', 'energy', 'speechiness',\n",
    "                  'acousticness', 'instrumentalness', 'liveness', 'valence']\n",
    "    nready_cols = ['loudness', 'tempo', 'duration_ms',\n",
    "                   'key', 'mode', 'time_signature']\n",
    "    \n",
    "    # Concatenate all dataframes and reset indexes\n",
    "    df = pd.concat(genres, ignore_index=True).set_index('Track URI')\n",
    "    ready_cols_df = df[ready_cols].reset_index()\n",
    "    nready_cols_df = df[nready_cols]\n",
    "    \n",
    "    # Normalization objects\n",
    "    scaler = MinMaxScaler()\n",
    "    encoder = LabelEncoder()\n",
    "    \n",
    "    # Normalize features\n",
    "    nready_cols_scaled = scaler.fit_transform(nready_cols_df.values)\n",
    "    nready_cols_scaled_df = pd.DataFrame(nready_cols_scaled, columns=nready_cols)\n",
    "    \n",
    "    # Input to a model\n",
    "    samples_df = pd.concat([ready_cols_df.drop(columns='Track URI'), nready_cols_scaled_df], axis=1)\n",
    "    samples = samples_df.values\n",
    "    \n",
    "    # Target output from a model\n",
    "    target = encoder.fit_transform(df['genres'].values)\n",
    "    target_df = pd.DataFrame(target, columns=['genres'])\n",
    "    \n",
    "    # Target dictionary\n",
    "    encoded_target = encoder.inverse_transform(target)\n",
    "    target_dict = dict(zip(encoded_target, target))\n",
    "    target_dict = dict(sorted(target_dict.items()))\n",
    "    \n",
    "    # Dataframe representation\n",
    "    nn_dataframe = pd.concat([samples_df, target_df], axis=1)\n",
    "    \n",
    "    return samples, target, nn_dataframe, target_dict\n",
    "\n",
    "# Call the function and assign the returned values\n",
    "samples, target, nn_dataframe, target_dict = prepare_data(genres)"
   ]
  },
  {
   "cell_type": "code",
   "execution_count": 7,
   "id": "8f452906-3966-42e1-b2e2-9e73584e6a6a",
   "metadata": {},
   "outputs": [
    {
     "data": {
      "text/html": [
       "<div>\n",
       "<style scoped>\n",
       "    .dataframe tbody tr th:only-of-type {\n",
       "        vertical-align: middle;\n",
       "    }\n",
       "\n",
       "    .dataframe tbody tr th {\n",
       "        vertical-align: top;\n",
       "    }\n",
       "\n",
       "    .dataframe thead th {\n",
       "        text-align: right;\n",
       "    }\n",
       "</style>\n",
       "<table border=\"1\" class=\"dataframe\">\n",
       "  <thead>\n",
       "    <tr style=\"text-align: right;\">\n",
       "      <th></th>\n",
       "      <th>danceability</th>\n",
       "      <th>energy</th>\n",
       "      <th>speechiness</th>\n",
       "      <th>acousticness</th>\n",
       "      <th>instrumentalness</th>\n",
       "      <th>liveness</th>\n",
       "      <th>valence</th>\n",
       "      <th>loudness</th>\n",
       "      <th>tempo</th>\n",
       "      <th>duration_ms</th>\n",
       "      <th>key</th>\n",
       "      <th>mode</th>\n",
       "      <th>time_signature</th>\n",
       "      <th>genres</th>\n",
       "    </tr>\n",
       "  </thead>\n",
       "  <tbody>\n",
       "    <tr>\n",
       "      <th>0</th>\n",
       "      <td>0.367</td>\n",
       "      <td>0.665</td>\n",
       "      <td>0.0465</td>\n",
       "      <td>0.145</td>\n",
       "      <td>0.000000</td>\n",
       "      <td>0.1130</td>\n",
       "      <td>0.310</td>\n",
       "      <td>0.908941</td>\n",
       "      <td>0.679444</td>\n",
       "      <td>0.146785</td>\n",
       "      <td>0.090909</td>\n",
       "      <td>1.0</td>\n",
       "      <td>0.8</td>\n",
       "      <td>3</td>\n",
       "    </tr>\n",
       "    <tr>\n",
       "      <th>1</th>\n",
       "      <td>0.606</td>\n",
       "      <td>0.784</td>\n",
       "      <td>0.2680</td>\n",
       "      <td>0.435</td>\n",
       "      <td>0.000000</td>\n",
       "      <td>0.6890</td>\n",
       "      <td>0.480</td>\n",
       "      <td>0.837510</td>\n",
       "      <td>0.369509</td>\n",
       "      <td>0.186644</td>\n",
       "      <td>0.636364</td>\n",
       "      <td>1.0</td>\n",
       "      <td>0.8</td>\n",
       "      <td>3</td>\n",
       "    </tr>\n",
       "    <tr>\n",
       "      <th>2</th>\n",
       "      <td>0.912</td>\n",
       "      <td>0.596</td>\n",
       "      <td>0.4510</td>\n",
       "      <td>0.482</td>\n",
       "      <td>0.000369</td>\n",
       "      <td>0.1070</td>\n",
       "      <td>0.816</td>\n",
       "      <td>0.762087</td>\n",
       "      <td>0.412755</td>\n",
       "      <td>0.190139</td>\n",
       "      <td>0.545455</td>\n",
       "      <td>1.0</td>\n",
       "      <td>0.8</td>\n",
       "      <td>3</td>\n",
       "    </tr>\n",
       "    <tr>\n",
       "      <th>3</th>\n",
       "      <td>0.780</td>\n",
       "      <td>0.575</td>\n",
       "      <td>0.2730</td>\n",
       "      <td>0.430</td>\n",
       "      <td>0.000000</td>\n",
       "      <td>0.1430</td>\n",
       "      <td>0.773</td>\n",
       "      <td>0.817883</td>\n",
       "      <td>0.385511</td>\n",
       "      <td>0.165817</td>\n",
       "      <td>0.818182</td>\n",
       "      <td>0.0</td>\n",
       "      <td>0.8</td>\n",
       "      <td>3</td>\n",
       "    </tr>\n",
       "    <tr>\n",
       "      <th>4</th>\n",
       "      <td>0.900</td>\n",
       "      <td>0.619</td>\n",
       "      <td>0.3120</td>\n",
       "      <td>0.203</td>\n",
       "      <td>0.001560</td>\n",
       "      <td>0.0647</td>\n",
       "      <td>0.864</td>\n",
       "      <td>0.832881</td>\n",
       "      <td>0.429445</td>\n",
       "      <td>0.152956</td>\n",
       "      <td>0.363636</td>\n",
       "      <td>0.0</td>\n",
       "      <td>0.8</td>\n",
       "      <td>3</td>\n",
       "    </tr>\n",
       "    <tr>\n",
       "      <th>...</th>\n",
       "      <td>...</td>\n",
       "      <td>...</td>\n",
       "      <td>...</td>\n",
       "      <td>...</td>\n",
       "      <td>...</td>\n",
       "      <td>...</td>\n",
       "      <td>...</td>\n",
       "      <td>...</td>\n",
       "      <td>...</td>\n",
       "      <td>...</td>\n",
       "      <td>...</td>\n",
       "      <td>...</td>\n",
       "      <td>...</td>\n",
       "      <td>...</td>\n",
       "    </tr>\n",
       "    <tr>\n",
       "      <th>6443</th>\n",
       "      <td>0.909</td>\n",
       "      <td>0.666</td>\n",
       "      <td>0.0502</td>\n",
       "      <td>0.091</td>\n",
       "      <td>0.005450</td>\n",
       "      <td>0.3400</td>\n",
       "      <td>0.585</td>\n",
       "      <td>0.882833</td>\n",
       "      <td>0.570505</td>\n",
       "      <td>0.081201</td>\n",
       "      <td>0.454545</td>\n",
       "      <td>1.0</td>\n",
       "      <td>0.8</td>\n",
       "      <td>4</td>\n",
       "    </tr>\n",
       "    <tr>\n",
       "      <th>6444</th>\n",
       "      <td>0.721</td>\n",
       "      <td>0.814</td>\n",
       "      <td>0.0450</td>\n",
       "      <td>0.280</td>\n",
       "      <td>0.000000</td>\n",
       "      <td>0.0531</td>\n",
       "      <td>0.944</td>\n",
       "      <td>0.895815</td>\n",
       "      <td>0.716351</td>\n",
       "      <td>0.150501</td>\n",
       "      <td>1.000000</td>\n",
       "      <td>0.0</td>\n",
       "      <td>0.8</td>\n",
       "      <td>4</td>\n",
       "    </tr>\n",
       "    <tr>\n",
       "      <th>6445</th>\n",
       "      <td>0.919</td>\n",
       "      <td>0.623</td>\n",
       "      <td>0.0992</td>\n",
       "      <td>0.184</td>\n",
       "      <td>0.000016</td>\n",
       "      <td>0.0609</td>\n",
       "      <td>0.775</td>\n",
       "      <td>0.832819</td>\n",
       "      <td>0.593318</td>\n",
       "      <td>0.088617</td>\n",
       "      <td>0.636364</td>\n",
       "      <td>1.0</td>\n",
       "      <td>0.8</td>\n",
       "      <td>4</td>\n",
       "    </tr>\n",
       "    <tr>\n",
       "      <th>6446</th>\n",
       "      <td>0.637</td>\n",
       "      <td>0.768</td>\n",
       "      <td>0.0560</td>\n",
       "      <td>0.458</td>\n",
       "      <td>0.001920</td>\n",
       "      <td>0.3780</td>\n",
       "      <td>0.297</td>\n",
       "      <td>0.833909</td>\n",
       "      <td>0.433373</td>\n",
       "      <td>0.118008</td>\n",
       "      <td>0.000000</td>\n",
       "      <td>1.0</td>\n",
       "      <td>0.8</td>\n",
       "      <td>4</td>\n",
       "    </tr>\n",
       "    <tr>\n",
       "      <th>6447</th>\n",
       "      <td>0.793</td>\n",
       "      <td>0.780</td>\n",
       "      <td>0.2490</td>\n",
       "      <td>0.341</td>\n",
       "      <td>0.000000</td>\n",
       "      <td>0.1110</td>\n",
       "      <td>0.576</td>\n",
       "      <td>0.879603</td>\n",
       "      <td>0.812369</td>\n",
       "      <td>0.125989</td>\n",
       "      <td>0.090909</td>\n",
       "      <td>0.0</td>\n",
       "      <td>0.8</td>\n",
       "      <td>4</td>\n",
       "    </tr>\n",
       "  </tbody>\n",
       "</table>\n",
       "<p>6448 rows × 14 columns</p>\n",
       "</div>"
      ],
      "text/plain": [
       "      danceability  energy  speechiness  acousticness  instrumentalness  \\\n",
       "0            0.367   0.665       0.0465         0.145          0.000000   \n",
       "1            0.606   0.784       0.2680         0.435          0.000000   \n",
       "2            0.912   0.596       0.4510         0.482          0.000369   \n",
       "3            0.780   0.575       0.2730         0.430          0.000000   \n",
       "4            0.900   0.619       0.3120         0.203          0.001560   \n",
       "...            ...     ...          ...           ...               ...   \n",
       "6443         0.909   0.666       0.0502         0.091          0.005450   \n",
       "6444         0.721   0.814       0.0450         0.280          0.000000   \n",
       "6445         0.919   0.623       0.0992         0.184          0.000016   \n",
       "6446         0.637   0.768       0.0560         0.458          0.001920   \n",
       "6447         0.793   0.780       0.2490         0.341          0.000000   \n",
       "\n",
       "      liveness  valence  loudness     tempo  duration_ms       key  mode  \\\n",
       "0       0.1130    0.310  0.908941  0.679444     0.146785  0.090909   1.0   \n",
       "1       0.6890    0.480  0.837510  0.369509     0.186644  0.636364   1.0   \n",
       "2       0.1070    0.816  0.762087  0.412755     0.190139  0.545455   1.0   \n",
       "3       0.1430    0.773  0.817883  0.385511     0.165817  0.818182   0.0   \n",
       "4       0.0647    0.864  0.832881  0.429445     0.152956  0.363636   0.0   \n",
       "...        ...      ...       ...       ...          ...       ...   ...   \n",
       "6443    0.3400    0.585  0.882833  0.570505     0.081201  0.454545   1.0   \n",
       "6444    0.0531    0.944  0.895815  0.716351     0.150501  1.000000   0.0   \n",
       "6445    0.0609    0.775  0.832819  0.593318     0.088617  0.636364   1.0   \n",
       "6446    0.3780    0.297  0.833909  0.433373     0.118008  0.000000   1.0   \n",
       "6447    0.1110    0.576  0.879603  0.812369     0.125989  0.090909   0.0   \n",
       "\n",
       "      time_signature  genres  \n",
       "0                0.8       3  \n",
       "1                0.8       3  \n",
       "2                0.8       3  \n",
       "3                0.8       3  \n",
       "4                0.8       3  \n",
       "...              ...     ...  \n",
       "6443             0.8       4  \n",
       "6444             0.8       4  \n",
       "6445             0.8       4  \n",
       "6446             0.8       4  \n",
       "6447             0.8       4  \n",
       "\n",
       "[6448 rows x 14 columns]"
      ]
     },
     "execution_count": 7,
     "metadata": {},
     "output_type": "execute_result"
    }
   ],
   "source": [
    "nn_dataframe"
   ]
  },
  {
   "cell_type": "code",
   "execution_count": 12,
   "id": "0ccb4468",
   "metadata": {},
   "outputs": [
    {
     "data": {
      "text/plain": [
       "{'Alternative': 0,\n",
       " 'Classical': 1,\n",
       " 'Electronic': 2,\n",
       " 'HipHop': 3,\n",
       " 'Pop': 4,\n",
       " 'Rock': 5}"
      ]
     },
     "execution_count": 12,
     "metadata": {},
     "output_type": "execute_result"
    }
   ],
   "source": [
    "#Split dataset\n",
    "X_train, X_test, y_train, y_test = train_test_split(samples, target, test_size = 0.2)\n",
    "target_dict"
   ]
  },
  {
   "cell_type": "markdown",
   "id": "31b602c6",
   "metadata": {},
   "source": [
    "# ML Algorithms\n"
   ]
  },
  {
   "cell_type": "markdown",
   "id": "fe7e0527",
   "metadata": {},
   "source": [
    "## (1) Decision Trees"
   ]
  },
  {
   "cell_type": "markdown",
   "id": "13edc7e0",
   "metadata": {},
   "source": [
    "### GridSearchCV"
   ]
  },
  {
   "cell_type": "code",
   "execution_count": null,
   "id": "6fb65f75",
   "metadata": {},
   "outputs": [],
   "source": [
    "def DecisionTreeGridSearch(X_train, y_train):\n",
    "    #Parameters for GridSearchCV\n",
    "    parameters = {'criterion': ['gini', 'entropy'],\n",
    "                  'max_depth': [None, 2, 4, 6, 8],\n",
    "                  'max_features': [None, 'sqrt', 'log2', 0.2, 0.4, 0.6, 0.8],\n",
    "                  'splitter': ['best', 'random']}\n",
    "    #GridSearchCV\n",
    "    clf = GridSearchCV(estimator = tree.DecisionTreeClassifier(),\n",
    "                      param_grid = parameters,\n",
    "                      cv = 5,\n",
    "                      n_jobs = 5,\n",
    "                      verbose = 1)\n",
    "    clf = clf.fit(X_train, y_train)\n",
    "    print(clf.best_params_)\n",
    "\n",
    "DecisionTreeGridSearch(X_train, y_train)"
   ]
  },
  {
   "cell_type": "markdown",
   "id": "6e0d4c84",
   "metadata": {},
   "source": [
    "### Decision Tree Classifier"
   ]
  },
  {
   "cell_type": "code",
   "execution_count": 13,
   "id": "05200d8b",
   "metadata": {},
   "outputs": [],
   "source": [
    "def DecisionTreeClassifier(X_train, y_train, X_test, y_test):\n",
    "    #DecisionTreeClassifier\n",
    "    clf = tree.DecisionTreeClassifier(criterion = 'entropy', \n",
    "                                      max_depth = 4, \n",
    "                                      max_features = 0.6, \n",
    "                                      splitter = 'best')\n",
    "    clf = clf.fit(X_train, y_train)\n",
    "    #Prediction\n",
    "    predictions = clf.predict(X_test)\n",
    "    #Prediction accuracy\n",
    "    print(accuracy_score(y_test, predictions))\n",
    "    #Confusion matrix\n",
    "    confusion_matrix_result = confusion_matrix(y_test, predictions)\n",
    "    cm_vis = ConfusionMatrixDisplay(confusion_matrix = confusion_matrix_result, \n",
    "                                    display_labels = clf.classes_)\n",
    "    cm_vis.plot()"
   ]
  },
  {
   "cell_type": "code",
   "execution_count": 14,
   "id": "7d388fc8",
   "metadata": {},
   "outputs": [
    {
     "name": "stdout",
     "output_type": "stream",
     "text": [
      "0.5348837209302325\n"
     ]
    },
    {
     "data": {
      "image/png": "[encoded data removed]",
      "text/plain": [
       "<Figure size 640x480 with 2 Axes>"
      ]
     },
     "metadata": {},
     "output_type": "display_data"
    }
   ],
   "source": [
    "DecisionTreeClassifier(X_train, y_train, X_test, y_test)"
   ]
  },
  {
   "cell_type": "markdown",
   "id": "ed331573",
   "metadata": {},
   "source": [
    "## (2) Random Forests"
   ]
  },
  {
   "cell_type": "markdown",
   "id": "d2f9ae02",
   "metadata": {},
   "source": [
    "### GridSearchCV"
   ]
  },
  {
   "cell_type": "code",
   "execution_count": 9,
   "id": "2b8f67d7",
   "metadata": {},
   "outputs": [
    {
     "name": "stdout",
     "output_type": "stream",
     "text": [
      "Fitting 5 folds for each of 35 candidates, totalling 175 fits\n",
      "{'max_depth': 8, 'max_features': 'log2'}\n"
     ]
    }
   ],
   "source": [
    "def RandomForestGridSearch(X_train, y_train):\n",
    "    #Parameters for GridSearchCV\n",
    "    parameters = {'max_depth': [None, 2, 4, 6, 8],\n",
    "                  'max_features': [None, 'sqrt', 'log2', 0.2, 0.4, 0.6, 0.8]\n",
    "                 }\n",
    "    #GridSearchCV\n",
    "    clf = GridSearchCV(estimator = ensemble.RandomForestClassifier(),\n",
    "                       param_grid = parameters,\n",
    "                       cv = 5,\n",
    "                       n_jobs = 5,\n",
    "                       verbose = 1)\n",
    "    clf = clf.fit(X_train, y_train)\n",
    "    print(clf.best_params_)\n",
    "\n",
    "RandomForestGridSearch(X_train, y_train)"
   ]
  },
  {
   "cell_type": "markdown",
   "id": "0bc519eb",
   "metadata": {},
   "source": [
    "### Random Forest Classifier"
   ]
  },
  {
   "cell_type": "code",
   "execution_count": 15,
   "id": "f4cddbaa",
   "metadata": {},
   "outputs": [],
   "source": [
    "def RandomForestClassifier(X_train, y_train, X_test, y_test):\n",
    "    #RandomForestClassifier\n",
    "    clf = ensemble.RandomForestClassifier()\n",
    "    clf = clf.fit(X_train, y_train)\n",
    "    #Prediction\n",
    "    predictions = clf.predict(X_test)\n",
    "    #Prediction accuracy\n",
    "    print(accuracy_score(y_test, predictions))\n",
    "    #Confusion matrix\n",
    "    confusion_matrix_result = confusion_matrix(y_test, predictions)\n",
    "    cm_vis = ConfusionMatrixDisplay(confusion_matrix = confusion_matrix_result, \n",
    "                                    display_labels = clf.classes_)\n",
    "    cm_vis.plot()"
   ]
  },
  {
   "cell_type": "code",
   "execution_count": 16,
   "id": "70746dd7",
   "metadata": {},
   "outputs": [
    {
     "name": "stdout",
     "output_type": "stream",
     "text": [
      "0.6550387596899225\n"
     ]
    },
    {
     "data": {
      "image/png": "[encoded data removed]",
      "text/plain": [
       "<Figure size 640x480 with 2 Axes>"
      ]
     },
     "metadata": {},
     "output_type": "display_data"
    }
   ],
   "source": [
    "RandomForestClassifier(X_train, y_train, X_test, y_test)"
   ]
  },
  {
   "cell_type": "markdown",
   "id": "2a8d88f5",
   "metadata": {},
   "source": [
    "## (3) Stochastic Gradient Descent"
   ]
  },
  {
   "cell_type": "markdown",
   "id": "7c6aed40",
   "metadata": {},
   "source": [
    "### GridSearchCV"
   ]
  },
  {
   "cell_type": "code",
   "execution_count": null,
   "id": "13c1df5c",
   "metadata": {},
   "outputs": [],
   "source": [
    "def SGDGridSearch(X_train, y_train):\n",
    "    #Parameters for GridSearchCV\n",
    "    parameters = {'loss': ['hinge', 'log_loss'],\n",
    "                  'penalty': ['l2', 'l1', 'elasticnet', None],\n",
    "                  'max_iter': [100, 1000, 5000]}\n",
    "    #GridSearchCV\n",
    "    clf = GridSearchCV(estimator = linear_model.SGDClassifier(),\n",
    "                       param_grid = parameters,\n",
    "                       cv = 5,\n",
    "                       n_jobs = 5,\n",
    "                       verbose = 1)\n",
    "    clf = clf.fit(X_train, y_train)\n",
    "    print(clf.best_params_)\n",
    "\n",
    "SGDGridSearch(X_train, y_train)"
   ]
  },
  {
   "cell_type": "markdown",
   "id": "047d1dd9",
   "metadata": {},
   "source": [
    "### Stochastic Gradient Descent Classifier"
   ]
  },
  {
   "cell_type": "code",
   "execution_count": 17,
   "id": "740bcaa9",
   "metadata": {},
   "outputs": [],
   "source": [
    "def SGDClassifier(X_train, y_train, X_test, y_test):\n",
    "    #SGDClassifier\n",
    "    clf = linear_model.SGDClassifier(loss = 'log_loss',\n",
    "                                     max_iter = 1000,\n",
    "                                     penalty = None)\n",
    "    clf = clf.fit(X_train, y_train)\n",
    "    #Prediction\n",
    "    predictions = clf.predict(X_test)\n",
    "    #Prediction accuracy\n",
    "    print(accuracy_score(y_test, predictions))\n",
    "    #Confusion matrix\n",
    "    confusion_matrix_result = confusion_matrix(y_test, predictions)\n",
    "    cm_vis = ConfusionMatrixDisplay(confusion_matrix = confusion_matrix_result, \n",
    "                                    display_labels = clf.classes_)\n",
    "    cm_vis.plot()"
   ]
  },
  {
   "cell_type": "code",
   "execution_count": 18,
   "id": "7f1c21a9",
   "metadata": {},
   "outputs": [
    {
     "name": "stdout",
     "output_type": "stream",
     "text": [
      "0.5984496124031008\n"
     ]
    },
    {
     "data": {
      "image/png": "[encoded data removed]",
      "text/plain": [
       "<Figure size 640x480 with 2 Axes>"
      ]
     },
     "metadata": {},
     "output_type": "display_data"
    }
   ],
   "source": [
    "SGDClassifier(X_train, y_train, X_test, y_test)"
   ]
  },
  {
   "cell_type": "markdown",
   "id": "703d4ae3",
   "metadata": {},
   "source": [
    "## (4) K-Nearest Neighbors"
   ]
  },
  {
   "cell_type": "markdown",
   "id": "35e2d267",
   "metadata": {},
   "source": [
    "### GridSearchCV"
   ]
  },
  {
   "cell_type": "code",
   "execution_count": null,
   "id": "87d9e676",
   "metadata": {},
   "outputs": [],
   "source": [
    "def KNNGridSearch(X_train, y_train):\n",
    "    #Parameters for GridSearchCV\n",
    "    parameters = {'n_neighbors': [2, 5, 10, 20],\n",
    "                  'weights': ['uniform', 'distance', None],\n",
    "                  'algorithm': ['auto', 'ball_tree', 'kd_tree', 'brute']}\n",
    "    #GridSearchCV\n",
    "    clf = GridSearchCV(estimator = neighbors.KNeighborsClassifier(),\n",
    "                       param_grid = parameters,\n",
    "                       cv = 5,\n",
    "                       n_jobs = 5,\n",
    "                       verbose = 1)\n",
    "    clf = clf.fit(X_train, y_train)\n",
    "    print(clf.best_params_)\n",
    "\n",
    "KNNGridSearch(X_train, y_train)"
   ]
  },
  {
   "cell_type": "markdown",
   "id": "c5cf0612",
   "metadata": {},
   "source": [
    "### K-Nearest Neighbors Classifier"
   ]
  },
  {
   "cell_type": "code",
   "execution_count": 20,
   "id": "2369121d",
   "metadata": {},
   "outputs": [],
   "source": [
    "def KNNClassifier(X_train, y_train, X_test, y_test):\n",
    "    #SGDClassifier\n",
    "    clf = neighbors.KNeighborsClassifier(n_neighbors = 2,\n",
    "                                         algorithm = 'auto',\n",
    "                                         weights = 'distance')\n",
    "    clf = clf.fit(X_train, y_train)\n",
    "    #Prediction\n",
    "    predictions = clf.predict(X_test)\n",
    "    #Prediction accuracy\n",
    "    print(accuracy_score(y_test, predictions))\n",
    "    #Confusion matrix\n",
    "    confusion_matrix_result = confusion_matrix(y_test, predictions)\n",
    "    cm_vis = ConfusionMatrixDisplay(confusion_matrix = confusion_matrix_result, \n",
    "                                    display_labels = clf.classes_)\n",
    "    cm_vis.plot()"
   ]
  },
  {
   "cell_type": "code",
   "execution_count": 21,
   "id": "39c2bea3",
   "metadata": {},
   "outputs": [
    {
     "name": "stdout",
     "output_type": "stream",
     "text": [
      "0.5085271317829457\n"
     ]
    },
    {
     "data": {
      "image/png": "[encoded data removed]",
      "text/plain": [
       "<Figure size 640x480 with 2 Axes>"
      ]
     },
     "metadata": {},
     "output_type": "display_data"
    }
   ],
   "source": [
    "KNNClassifier(X_train, y_train, X_test, y_test)"
   ]
  },
  {
   "cell_type": "code",
   "execution_count": null,
   "id": "3a20c364",
   "metadata": {},
   "outputs": [],
   "source": []
  }
 ],
 "metadata": {
  "kernelspec": {
   "display_name": "Python 3 (ipykernel)",
   "language": "python",
   "name": "python3"
  },
  "language_info": {
   "codemirror_mode": {
    "name": "ipython",
    "version": 3
   },
   "file_extension": ".py",
   "mimetype": "text/x-python",
   "name": "python",
   "nbconvert_exporter": "python",
   "pygments_lexer": "ipython3",
   "version": "3.11.0"
  }
 },
 "nbformat": 4,
 "nbformat_minor": 5
}
