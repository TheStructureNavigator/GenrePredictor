{
 "cells": [
  {
   "cell_type": "markdown",
   "metadata": {
    "tags": []
   },
   "source": [
    "## Dependencies"
   ]
  },
  {
   "cell_type": "code",
   "execution_count": null,
   "metadata": {},
   "outputs": [],
   "source": [
    "#Common Dependencies\n",
    "import pandas as pd\n",
    "import random as rnd\n",
    "import seaborn as sns\n",
    "import matplotlib.pyplot as plt\n",
    "#Raw Data Extractor\n",
    "from modules.authenticator import authenticator\n",
    "from modules.get_info import get_info\n",
    "from modules.extract_features import extract_features\n",
    "#Data Editor\n",
    "from modules.create_sample import create_sample\n",
    "from modules.populate import populate\n",
    "#Spotify User Credentials\n",
    "sp = authenticator()\n",
    "\n",
    "pd.set_option('display.max_rows', 10)"
   ]
  },
  {
   "cell_type": "markdown",
   "metadata": {
    "jp-MarkdownHeadingCollapsed": true,
    "tags": []
   },
   "source": [
    "## Raw Data Extractor"
   ]
  },
  {
   "cell_type": "markdown",
   "metadata": {
    "tags": []
   },
   "source": [
    "### Provide Spotify links"
   ]
  },
  {
   "cell_type": "code",
   "execution_count": null,
   "metadata": {},
   "outputs": [],
   "source": [
    "#Links\n",
    "links = ['https://open.spotify.com/album/7MUY0WxCmHcgEEeQNjoe8a?si=qKqQX0G2QTyvix4uSsraZA']"
   ]
  },
  {
   "cell_type": "markdown",
   "metadata": {
    "tags": []
   },
   "source": [
    "### Extract raw data "
   ]
  },
  {
   "cell_type": "code",
   "execution_count": null,
   "metadata": {},
   "outputs": [],
   "source": [
    "#Extract URI from links\n",
    "print('Extracting URIs from links...')\n",
    "info_dict, url_types = get_info(sp, links)\n",
    "print('............................')\n",
    "print('URIs have been extracted\\n')\n",
    "\n",
    "#Extract data from URIs\n",
    "print('Extracting data...')\n",
    "dataframe = extract_features(sp, info_dict, url_types)\n",
    "print('............................')\n",
    "print('Data has been extracted\\n')\n",
    "\n",
    "#Remove duplicates\n",
    "print('Number of duplicates:', dataframe.duplicated().sum())\n",
    "if dataframe.duplicated().sum() > 0:\n",
    "    print('Removing duplicates...')\n",
    "    dataframe = dataframe.drop_duplicates()\n",
    "    print('Duplicates have been removed')\n",
    "    print('Number of duplicates:', dataframe.duplicated().sum())\n",
    "\n",
    "#Show a dataframe\n",
    "print('\\nDataframe:')\n",
    "dataframe"
   ]
  },
  {
   "cell_type": "markdown",
   "metadata": {
    "tags": []
   },
   "source": [
    "## Data Editor"
   ]
  },
  {
   "cell_type": "markdown",
   "metadata": {
    "jp-MarkdownHeadingCollapsed": true,
    "tags": []
   },
   "source": [
    "### (I) Populating Median Neigbourhood"
   ]
  },
  {
   "cell_type": "code",
   "execution_count": null,
   "metadata": {},
   "outputs": [],
   "source": [
    "#Populate with additional data\n",
    "print('Shape before populating:', dataframe.shape)\n",
    "print('............................')\n",
    "print('Populating...')\n",
    "print('Populating has been done')\n",
    "dataframe = populate(dataframe, 100)\n",
    "print('............................')\n",
    "print('Shape after populating:', dataframe.shape)\n",
    "\n",
    "#Show a dataframe\n",
    "print('\\nDataframe:')\n",
    "dataframe"
   ]
  },
  {
   "cell_type": "code",
   "execution_count": null,
   "metadata": {},
   "outputs": [],
   "source": [
    "dataframe['danceability'].describe()[4]"
   ]
  },
  {
   "cell_type": "markdown",
   "metadata": {
    "jp-MarkdownHeadingCollapsed": true,
    "tags": []
   },
   "source": [
    "### (II) Feature Extracting"
   ]
  },
  {
   "cell_type": "code",
   "execution_count": null,
   "metadata": {},
   "outputs": [],
   "source": [
    "#Calculate and add additional features columns\n",
    "dataframe['danceability_energy_ratio'] = dataframe['danceability'] * dataframe['energy']\n",
    "dataframe['danceability_valence_ratio'] = dataframe['danceability'] * dataframe['valence']\n",
    "\n",
    "#Show a dataframe\n",
    "print('\\nDataframe:')\n",
    "dataframe"
   ]
  },
  {
   "cell_type": "markdown",
   "metadata": {
    "jp-MarkdownHeadingCollapsed": true,
    "tags": []
   },
   "source": [
    "### (III) KDE Trimming"
   ]
  },
  {
   "cell_type": "code",
   "execution_count": null,
   "metadata": {},
   "outputs": [],
   "source": [
    "# KDE plot for feature before trimming\n",
    "plt.subplot(1, 2, 1)\n",
    "sns.kdeplot(data=dataframe, x='danceability', bw_adjust=0.5)\n",
    "plt.xlabel('Danceability')\n",
    "plt.ylabel('Density')\n",
    "plt.title('KDE Plot Before Trimming')\n",
    "\n",
    "#Trim features\n",
    "dataframe = dataframe[(dataframe['danceability'] > 0.4) & (dataframe['danceability'] < 0.5)]\n",
    "\n",
    "# KDE plot for feature after trimming\n",
    "plt.subplot(1, 2, 2)\n",
    "sns.kdeplot(data=dataframe, x='danceability', bw_adjust=0.5)\n",
    "plt.xlabel('Danceability')\n",
    "plt.ylabel('Density')\n",
    "plt.title('KDE Plot After Trimming')\n",
    "\n",
    "plt.tight_layout()\n",
    "plt.show()"
   ]
  },
  {
   "cell_type": "markdown",
   "metadata": {
    "tags": []
   },
   "source": [
    "### For training data set tracklist genre"
   ]
  },
  {
   "cell_type": "code",
   "execution_count": null,
   "metadata": {},
   "outputs": [],
   "source": [
    "dataframe['genres'] = 'hiphop'\n",
    "dataframe.head()"
   ]
  },
  {
   "cell_type": "markdown",
   "metadata": {
    "tags": []
   },
   "source": [
    "## Save data to csv"
   ]
  },
  {
   "cell_type": "code",
   "execution_count": null,
   "metadata": {},
   "outputs": [],
   "source": [
    "dataframe.to_csv('Albums/m_ToryLanez.csv')"
   ]
  },
  {
   "cell_type": "code",
   "execution_count": null,
   "metadata": {},
   "outputs": [],
   "source": []
  }
 ],
 "metadata": {
  "kernelspec": {
   "display_name": "Python 3 (ipykernel)",
   "language": "python",
   "name": "python3"
  },
  "language_info": {
   "codemirror_mode": {
    "name": "ipython",
    "version": 3
   },
   "file_extension": ".py",
   "mimetype": "text/x-python",
   "name": "python",
   "nbconvert_exporter": "python",
   "pygments_lexer": "ipython3",
   "version": "3.11.0"
  }
 },
 "nbformat": 4,
 "nbformat_minor": 4
}
